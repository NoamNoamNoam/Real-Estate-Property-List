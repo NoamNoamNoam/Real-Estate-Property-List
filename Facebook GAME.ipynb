{
 "cells": [
  {
   "cell_type": "markdown",
   "metadata": {},
   "source": [
    "*Any user which hasn't been converted to paid in 7 days, or users that we don't yet know if they will be converted to paid because they installed less than 7 days ago, their LTV is negligable"
   ]
  },
  {
   "cell_type": "code",
   "execution_count": 1,
   "metadata": {
    "collapsed": false,
    "scrolled": true
   },
   "outputs": [
    {
     "name": "stderr",
     "output_type": "stream",
     "text": [
      "C:\\Users\\DELL1\\Anaconda3\\lib\\site-packages\\IPython\\core\\interactiveshell.py:2723: DtypeWarning: Columns (24) have mixed types. Specify dtype option on import or set low_memory=False.\n",
      "  interactivity=interactivity, compiler=compiler, result=result)\n"
     ]
    },
    {
     "data": {
      "text/html": [
       "<div>\n",
       "<table border=\"1\" class=\"dataframe\">\n",
       "  <thead>\n",
       "    <tr style=\"text-align: right;\">\n",
       "      <th></th>\n",
       "      <th>Install Time</th>\n",
       "      <th>Event Time</th>\n",
       "      <th>Event Name</th>\n",
       "      <th>Event Value</th>\n",
       "      <th>Event Revenue</th>\n",
       "      <th>Agency/PMD (af_prt)</th>\n",
       "      <th>Media Source (pid)</th>\n",
       "      <th>Campaign Name (c)</th>\n",
       "      <th>Campaign ID (af_c_id)</th>\n",
       "      <th>Adset Name (af_adset)</th>\n",
       "      <th>...</th>\n",
       "      <th>Customer User Id</th>\n",
       "      <th>Android Id</th>\n",
       "      <th>IMEI</th>\n",
       "      <th>Advertising Id</th>\n",
       "      <th>Device Type</th>\n",
       "      <th>OS Version</th>\n",
       "      <th>SDK Version</th>\n",
       "      <th>App Version</th>\n",
       "      <th>Carrier</th>\n",
       "      <th>Sub Param 1 (af_sub1)</th>\n",
       "    </tr>\n",
       "  </thead>\n",
       "  <tbody>\n",
       "    <tr>\n",
       "      <th>0</th>\n",
       "      <td>42438.34722</td>\n",
       "      <td>42438.34722</td>\n",
       "      <td>StartGame</td>\n",
       "      <td>NaN</td>\n",
       "      <td>NaN</td>\n",
       "      <td>Fyber</td>\n",
       "      <td>NaN</td>\n",
       "      <td>US_FBConnect</td>\n",
       "      <td>NaN</td>\n",
       "      <td>NaN</td>\n",
       "      <td>...</td>\n",
       "      <td>NaN</td>\n",
       "      <td>NaN</td>\n",
       "      <td>NaN</td>\n",
       "      <td>c8d8c97d-03e0-45a8-a8af-e303de2a9472</td>\n",
       "      <td>samsung-SM-N920T</td>\n",
       "      <td>22</td>\n",
       "      <td>v3.3.0</td>\n",
       "      <td>2.5.2</td>\n",
       "      <td>T-Mobile</td>\n",
       "      <td>12680</td>\n",
       "    </tr>\n",
       "    <tr>\n",
       "      <th>1</th>\n",
       "      <td>42438.34653</td>\n",
       "      <td>42438.34722</td>\n",
       "      <td>StartGame</td>\n",
       "      <td>NaN</td>\n",
       "      <td>NaN</td>\n",
       "      <td>NaN</td>\n",
       "      <td>supersonicads_int</td>\n",
       "      <td>FBC_US_Android_Feb2016</td>\n",
       "      <td>NaN</td>\n",
       "      <td>NaN</td>\n",
       "      <td>...</td>\n",
       "      <td>NaN</td>\n",
       "      <td>NaN</td>\n",
       "      <td>NaN</td>\n",
       "      <td>287fb7df-012b-4654-bbc7-f98271f38022</td>\n",
       "      <td>htc-HTC6435LVW</td>\n",
       "      <td>19</td>\n",
       "      <td>v3.3.0</td>\n",
       "      <td>2.5.2</td>\n",
       "      <td>Extended Network</td>\n",
       "      <td>NaN</td>\n",
       "    </tr>\n",
       "    <tr>\n",
       "      <th>2</th>\n",
       "      <td>42438.34653</td>\n",
       "      <td>42438.34722</td>\n",
       "      <td>StartGame</td>\n",
       "      <td>NaN</td>\n",
       "      <td>NaN</td>\n",
       "      <td>NaN</td>\n",
       "      <td>tapjoy_int</td>\n",
       "      <td>TapJoy_US_Android_FBC</td>\n",
       "      <td>NaN</td>\n",
       "      <td>NaN</td>\n",
       "      <td>...</td>\n",
       "      <td>NaN</td>\n",
       "      <td>NaN</td>\n",
       "      <td>NaN</td>\n",
       "      <td>3c198b23-e1ef-47a5-86a5-b180128c90fb</td>\n",
       "      <td>lge-LGL15G</td>\n",
       "      <td>19</td>\n",
       "      <td>v3.3.0</td>\n",
       "      <td>2.5.2</td>\n",
       "      <td>NaN</td>\n",
       "      <td>NaN</td>\n",
       "    </tr>\n",
       "    <tr>\n",
       "      <th>3</th>\n",
       "      <td>42438.34583</td>\n",
       "      <td>42438.34653</td>\n",
       "      <td>StartGame</td>\n",
       "      <td>NaN</td>\n",
       "      <td>NaN</td>\n",
       "      <td>NaN</td>\n",
       "      <td>supersonicads_int</td>\n",
       "      <td>FBC_US_Android_Feb2016</td>\n",
       "      <td>NaN</td>\n",
       "      <td>NaN</td>\n",
       "      <td>...</td>\n",
       "      <td>NaN</td>\n",
       "      <td>NaN</td>\n",
       "      <td>NaN</td>\n",
       "      <td>14d3c244-5cd8-4614-87cd-f70f4deeb3cd</td>\n",
       "      <td>samsung-SM-T110</td>\n",
       "      <td>17</td>\n",
       "      <td>v3.3.0</td>\n",
       "      <td>2.5.2</td>\n",
       "      <td>NaN</td>\n",
       "      <td>NaN</td>\n",
       "    </tr>\n",
       "    <tr>\n",
       "      <th>4</th>\n",
       "      <td>42438.34583</td>\n",
       "      <td>42438.34722</td>\n",
       "      <td>StartGame</td>\n",
       "      <td>NaN</td>\n",
       "      <td>NaN</td>\n",
       "      <td>NaN</td>\n",
       "      <td>supersonicads_int</td>\n",
       "      <td>FBC_US_Android_Feb2016</td>\n",
       "      <td>NaN</td>\n",
       "      <td>NaN</td>\n",
       "      <td>...</td>\n",
       "      <td>NaN</td>\n",
       "      <td>NaN</td>\n",
       "      <td>NaN</td>\n",
       "      <td>14d3c244-5cd8-4614-87cd-f70f4deeb3cd</td>\n",
       "      <td>samsung-SM-T110</td>\n",
       "      <td>17</td>\n",
       "      <td>v3.3.0</td>\n",
       "      <td>2.5.2</td>\n",
       "      <td>NaN</td>\n",
       "      <td>NaN</td>\n",
       "    </tr>\n",
       "  </tbody>\n",
       "</table>\n",
       "<p>5 rows × 33 columns</p>\n",
       "</div>"
      ],
      "text/plain": [
       "   Install Time   Event Time Event Name Event Value  Event Revenue  \\\n",
       "0   42438.34722  42438.34722  StartGame         NaN            NaN   \n",
       "1   42438.34653  42438.34722  StartGame         NaN            NaN   \n",
       "2   42438.34653  42438.34722  StartGame         NaN            NaN   \n",
       "3   42438.34583  42438.34653  StartGame         NaN            NaN   \n",
       "4   42438.34583  42438.34722  StartGame         NaN            NaN   \n",
       "\n",
       "  Agency/PMD (af_prt) Media Source (pid)       Campaign Name (c)  \\\n",
       "0               Fyber                NaN            US_FBConnect   \n",
       "1                 NaN  supersonicads_int  FBC_US_Android_Feb2016   \n",
       "2                 NaN         tapjoy_int   TapJoy_US_Android_FBC   \n",
       "3                 NaN  supersonicads_int  FBC_US_Android_Feb2016   \n",
       "4                 NaN  supersonicads_int  FBC_US_Android_Feb2016   \n",
       "\n",
       "   Campaign ID (af_c_id) Adset Name (af_adset)          ...           \\\n",
       "0                    NaN                   NaN          ...            \n",
       "1                    NaN                   NaN          ...            \n",
       "2                    NaN                   NaN          ...            \n",
       "3                    NaN                   NaN          ...            \n",
       "4                    NaN                   NaN          ...            \n",
       "\n",
       "   Customer User Id Android Id IMEI                        Advertising Id  \\\n",
       "0               NaN        NaN  NaN  c8d8c97d-03e0-45a8-a8af-e303de2a9472   \n",
       "1               NaN        NaN  NaN  287fb7df-012b-4654-bbc7-f98271f38022   \n",
       "2               NaN        NaN  NaN  3c198b23-e1ef-47a5-86a5-b180128c90fb   \n",
       "3               NaN        NaN  NaN  14d3c244-5cd8-4614-87cd-f70f4deeb3cd   \n",
       "4               NaN        NaN  NaN  14d3c244-5cd8-4614-87cd-f70f4deeb3cd   \n",
       "\n",
       "        Device Type  OS Version SDK Version  App Version           Carrier  \\\n",
       "0  samsung-SM-N920T          22      v3.3.0        2.5.2          T-Mobile   \n",
       "1    htc-HTC6435LVW          19      v3.3.0        2.5.2  Extended Network   \n",
       "2        lge-LGL15G          19      v3.3.0        2.5.2               NaN   \n",
       "3   samsung-SM-T110          17      v3.3.0        2.5.2               NaN   \n",
       "4   samsung-SM-T110          17      v3.3.0        2.5.2               NaN   \n",
       "\n",
       "  Sub Param 1 (af_sub1)  \n",
       "0                 12680  \n",
       "1                   NaN  \n",
       "2                   NaN  \n",
       "3                   NaN  \n",
       "4                   NaN  \n",
       "\n",
       "[5 rows x 33 columns]"
      ]
     },
     "execution_count": 1,
     "metadata": {},
     "output_type": "execute_result"
    }
   ],
   "source": [
    "import pandas as pd\n",
    "game = pd.read_csv('Game.csv', encoding = \"ISO-8859-1\")\n",
    "game.head(5)"
   ]
  },
  {
   "cell_type": "code",
   "execution_count": 2,
   "metadata": {
    "collapsed": false
   },
   "outputs": [
    {
     "data": {
      "text/plain": [
       "['Ad Type (af_ad_type)', 'Region', 'State', 'Customer User Id', 'IMEI']"
      ]
     },
     "execution_count": 2,
     "metadata": {},
     "output_type": "execute_result"
    }
   ],
   "source": [
    "lis =[]\n",
    "for col in game.columns:\n",
    "    if len(game[pd.notnull(game[col])]) == 0:\n",
    "        lis.append(col)\n",
    "\n",
    "lis"
   ]
  },
  {
   "cell_type": "code",
   "execution_count": 3,
   "metadata": {
    "collapsed": false
   },
   "outputs": [
    {
     "data": {
      "text/plain": [
       "(200000, 200000)"
      ]
     },
     "execution_count": 3,
     "metadata": {},
     "output_type": "execute_result"
    }
   ],
   "source": [
    "game.shape[0], game.dropna(how = 'all').shape[0]"
   ]
  },
  {
   "cell_type": "code",
   "execution_count": 4,
   "metadata": {
    "collapsed": false
   },
   "outputs": [
    {
     "data": {
      "text/plain": [
       "33"
      ]
     },
     "execution_count": 4,
     "metadata": {},
     "output_type": "execute_result"
    }
   ],
   "source": [
    "game.shape[1]"
   ]
  },
  {
   "cell_type": "code",
   "execution_count": 5,
   "metadata": {
    "collapsed": false
   },
   "outputs": [
    {
     "data": {
      "text/plain": [
       "28"
      ]
     },
     "execution_count": 5,
     "metadata": {},
     "output_type": "execute_result"
    }
   ],
   "source": [
    "game.drop(lis, axis = 1).shape[1]"
   ]
  },
  {
   "cell_type": "code",
   "execution_count": 6,
   "metadata": {
    "collapsed": false
   },
   "outputs": [],
   "source": [
    "cleangame = game.drop(lis, axis = 1)"
   ]
  },
  {
   "cell_type": "code",
   "execution_count": 7,
   "metadata": {
    "collapsed": false
   },
   "outputs": [
    {
     "data": {
      "text/plain": [
       "Index(['Install Time', 'Event Time', 'Event Name', 'Event Value',\n",
       "       'Event Revenue', 'Agency/PMD (af_prt)', 'Media Source (pid)',\n",
       "       'Campaign Name (c)', 'Campaign ID (af_c_id)', 'Adset Name (af_adset)',\n",
       "       'Adset ID (af_adset_id)', 'Ad Name (af_ad)', 'Ad ID (af_ad_id)',\n",
       "       'Site Id (af_siteid)', 'Country Code', 'City', 'IP', 'WIFI', 'Language',\n",
       "       'Appsflyer Device Id', 'Android Id', 'Advertising Id', 'Device Type',\n",
       "       'OS Version', 'SDK Version', 'App Version', 'Carrier',\n",
       "       'Sub Param 1 (af_sub1)'],\n",
       "      dtype='object')"
      ]
     },
     "execution_count": 7,
     "metadata": {},
     "output_type": "execute_result"
    }
   ],
   "source": [
    "cleangame.columns"
   ]
  },
  {
   "cell_type": "code",
   "execution_count": 8,
   "metadata": {
    "collapsed": false
   },
   "outputs": [
    {
     "data": {
      "text/plain": [
       "2     283\n",
       "5     202\n",
       "10     49\n",
       "1      36\n",
       "33      9\n",
       "50      6\n",
       "3       4\n",
       "24      2\n",
       "15      1\n",
       "Name: Event Revenue, dtype: int64"
      ]
     },
     "execution_count": 8,
     "metadata": {},
     "output_type": "execute_result"
    }
   ],
   "source": [
    "pd.value_counts(cleangame['Event Revenue'])"
   ]
  },
  {
   "cell_type": "code",
   "execution_count": 9,
   "metadata": {
    "collapsed": false,
    "scrolled": true
   },
   "outputs": [
    {
     "data": {
      "text/plain": [
       "226"
      ]
     },
     "execution_count": 9,
     "metadata": {},
     "output_type": "execute_result"
    }
   ],
   "source": [
    "total_revenue = pd.pivot_table(cleangame, values = 'Event Revenue', index = 'Appsflyer Device Id', aggfunc = sum).dropna()\n",
    "len(total_revenue)"
   ]
  },
  {
   "cell_type": "markdown",
   "metadata": {},
   "source": [
    "Because of lack of data about LTV for User Age 8 & 9. I am dropping rows so that I will only use the first 7 days of Users aged 8 & 9 to predict LTV"
   ]
  },
  {
   "cell_type": "code",
   "execution_count": 10,
   "metadata": {
    "collapsed": false
   },
   "outputs": [
    {
     "data": {
      "text/plain": [
       "(194173, 28)"
      ]
     },
     "execution_count": 10,
     "metadata": {},
     "output_type": "execute_result"
    }
   ],
   "source": [
    "cleangame = cleangame.drop(cleangame[(cleangame['Install Time'] < 42432) & (cleangame['Event Time'] > 42437)].index)\n",
    "cleangame.shape"
   ]
  },
  {
   "cell_type": "code",
   "execution_count": 11,
   "metadata": {
    "collapsed": false,
    "scrolled": true
   },
   "outputs": [],
   "source": [
    "ngame = pd.pivot_table(cleangame, values = ['Install Time', 'Media Source (pid)','Agency/PMD (af_prt)'],\n",
    "               index = 'Appsflyer Device Id', aggfunc = min).sort_values('Install Time', ascending = False)\n",
    "\n",
    "ngame['Install Time'] = ngame['Install Time'].apply(lambda x: 42438 - int(x))\n",
    "\n",
    "ngame = ngame[['Install Time', 'Agency/PMD (af_prt)','Media Source (pid)']]"
   ]
  },
  {
   "cell_type": "code",
   "execution_count": 12,
   "metadata": {
    "collapsed": false,
    "scrolled": true
   },
   "outputs": [],
   "source": [
    "ngame['Total Revenue'] = total_revenue\n",
    "ngame = ngame.dropna(subset = ['Total Revenue'])"
   ]
  },
  {
   "cell_type": "code",
   "execution_count": 13,
   "metadata": {
    "collapsed": false,
    "scrolled": true
   },
   "outputs": [],
   "source": [
    "ngame.columns = ['User Age', 'Agency/PMD (af_prt)', 'Media Source (pid)',\n",
    "       'Total Revenue']"
   ]
  },
  {
   "cell_type": "code",
   "execution_count": 14,
   "metadata": {
    "collapsed": false
   },
   "outputs": [],
   "source": [
    "ngame['User Age'] = ngame['User Age'].apply(lambda x: x + 1)"
   ]
  },
  {
   "cell_type": "code",
   "execution_count": 15,
   "metadata": {
    "collapsed": true
   },
   "outputs": [],
   "source": [
    "LTV_dict = { 1:0.03, 2:0.045, 3:0.0575, 4:0.07, 5:0.0815, 6:0.091, 7:0.1}"
   ]
  },
  {
   "cell_type": "markdown",
   "metadata": {},
   "source": [
    "adjusting User Age as to account for previously dropped data"
   ]
  },
  {
   "cell_type": "code",
   "execution_count": 16,
   "metadata": {
    "collapsed": false,
    "scrolled": true
   },
   "outputs": [],
   "source": [
    "ngame['User Age'] = ngame['User Age'].replace([8,9], value = 7)"
   ]
  },
  {
   "cell_type": "code",
   "execution_count": 17,
   "metadata": {
    "collapsed": false,
    "scrolled": true
   },
   "outputs": [],
   "source": [
    "LTVp = []\n",
    "\n",
    "for x, i in zip(ngame['User Age'], ngame.index):\n",
    "    a = LTV_dict[x]\n",
    "    LTVp.append([i,a])"
   ]
  },
  {
   "cell_type": "code",
   "execution_count": 18,
   "metadata": {
    "collapsed": false,
    "scrolled": true
   },
   "outputs": [],
   "source": [
    "LTV_S = pd.DataFrame(LTVp, columns = ['Appsflyer Device Id', 'ltv'])\n",
    "LTV_S = LTV_S.set_index('Appsflyer Device Id')"
   ]
  },
  {
   "cell_type": "code",
   "execution_count": 19,
   "metadata": {
    "collapsed": false
   },
   "outputs": [],
   "source": [
    "ngame['LTV'] = ngame['Total Revenue'] / LTV_S['ltv']"
   ]
  },
  {
   "cell_type": "code",
   "execution_count": 20,
   "metadata": {
    "collapsed": false
   },
   "outputs": [],
   "source": [
    "ngame['Media Source (pid)'] = ngame['Media Source (pid)'].fillna('from Agency')"
   ]
  },
  {
   "cell_type": "code",
   "execution_count": 21,
   "metadata": {
    "collapsed": false
   },
   "outputs": [
    {
     "name": "stdout",
     "output_type": "stream",
     "text": [
      "applifier_int generated the highest predicted ARPPU\n"
     ]
    }
   ],
   "source": [
    "import numpy as np\n",
    "avgmsource = pd.pivot_table(ngame, values = 'LTV', index = 'Media Source (pid)', aggfunc = np.mean)\n",
    "fmax = avgmsource.idxmax()\n",
    "print (\"%s generated the highest predicted ARPPU\" %(fmax))"
   ]
  },
  {
   "cell_type": "code",
   "execution_count": 22,
   "metadata": {
    "collapsed": false
   },
   "outputs": [
    {
     "data": {
      "text/plain": [
       "Media Source (pid)\n",
       "Facebook Ads          95.873016\n",
       "Jelly                 50.000000\n",
       "adcolony_int         149.250298\n",
       "applifier_int        240.000000\n",
       "from Agency          178.477425\n",
       "googleadwords_int    180.284754\n",
       "jumprampgames_int    133.705467\n",
       "supersonicads_int    198.452967\n",
       "tapjoy_int           132.934127\n",
       "vungle_int            61.229466\n",
       "Name: LTV, dtype: float64"
      ]
     },
     "execution_count": 22,
     "metadata": {},
     "output_type": "execute_result"
    }
   ],
   "source": [
    "avgmsource"
   ]
  },
  {
   "cell_type": "code",
   "execution_count": 23,
   "metadata": {
    "collapsed": false
   },
   "outputs": [
    {
     "data": {
      "text/plain": [
       "Media Source (pid)\n",
       "Facebook Ads           575.238095\n",
       "Jelly                   50.000000\n",
       "adcolony_int          2089.504167\n",
       "applifier_int          240.000000\n",
       "from Agency           5354.322735\n",
       "googleadwords_int     9194.522476\n",
       "jumprampgames_int    11766.081133\n",
       "supersonicads_int     1389.170768\n",
       "tapjoy_int            3323.353181\n",
       "vungle_int             183.688397\n",
       "Name: LTV, dtype: float64"
      ]
     },
     "execution_count": 23,
     "metadata": {},
     "output_type": "execute_result"
    }
   ],
   "source": [
    "summsource = pd.pivot_table(ngame, values = 'LTV', index = 'Media Source (pid)', aggfunc = sum)\n",
    "summsource"
   ]
  },
  {
   "cell_type": "code",
   "execution_count": 24,
   "metadata": {
    "collapsed": false
   },
   "outputs": [
    {
     "data": {
      "text/plain": [
       "Media Source (pid)\n",
       "Facebook Ads          6\n",
       "Jelly                 1\n",
       "adcolony_int         14\n",
       "applifier_int         1\n",
       "from Agency          30\n",
       "googleadwords_int    51\n",
       "jumprampgames_int    88\n",
       "supersonicads_int     7\n",
       "tapjoy_int           25\n",
       "vungle_int            3\n",
       "Name: LTV, dtype: float64"
      ]
     },
     "execution_count": 24,
     "metadata": {},
     "output_type": "execute_result"
    }
   ],
   "source": [
    "paidinstalls_per_msource = summsource / avgmsource\n",
    "paidinstalls_per_msource"
   ]
  },
  {
   "cell_type": "code",
   "execution_count": 25,
   "metadata": {
    "collapsed": false
   },
   "outputs": [
    {
     "data": {
      "text/plain": [
       "28396"
      ]
     },
     "execution_count": 25,
     "metadata": {},
     "output_type": "execute_result"
    }
   ],
   "source": [
    "len(pd.unique(cleangame['Appsflyer Device Id']))\n"
   ]
  },
  {
   "cell_type": "code",
   "execution_count": 26,
   "metadata": {
    "collapsed": false
   },
   "outputs": [
    {
     "data": {
      "text/plain": [
       "Media Source (pid)\n",
       "Facebook Ads          638\n",
       "Jelly                  83\n",
       "adcolony_int         2781\n",
       "applifier_int          65\n",
       "chartboosts2s_int       5\n",
       "from Agency          6904\n",
       "googleadwords_int    4629\n",
       "jumprampgames_int    5775\n",
       "mdotm_int               1\n",
       "nativex_int             2\n",
       "supersonicads_int    1667\n",
       "tapjoy_int           5762\n",
       "vungle_int             84\n",
       "Name: Appsflyer Device Id, dtype: int64"
      ]
     },
     "execution_count": 26,
     "metadata": {},
     "output_type": "execute_result"
    }
   ],
   "source": [
    "cleangame['Media Source (pid)'] = cleangame['Media Source (pid)'].fillna('from Agency')\n",
    "users_per_msource = pd.pivot_table(cleangame, values = 'Appsflyer Device Id', index = 'Media Source (pid)', aggfunc = lambda x: len(pd.unique(x)) )\n",
    "users_per_msource"
   ]
  },
  {
   "cell_type": "code",
   "execution_count": 27,
   "metadata": {
    "collapsed": false,
    "scrolled": true
   },
   "outputs": [
    {
     "data": {
      "text/html": [
       "<div>\n",
       "<table border=\"1\" class=\"dataframe\">\n",
       "  <thead>\n",
       "    <tr style=\"text-align: right;\">\n",
       "      <th></th>\n",
       "      <th>ARPPU</th>\n",
       "      <th>LTV</th>\n",
       "      <th>Paying Users</th>\n",
       "      <th>Installs</th>\n",
       "      <th>Cost</th>\n",
       "      <th>ROI</th>\n",
       "    </tr>\n",
       "    <tr>\n",
       "      <th>Media Source (pid)</th>\n",
       "      <th></th>\n",
       "      <th></th>\n",
       "      <th></th>\n",
       "      <th></th>\n",
       "      <th></th>\n",
       "      <th></th>\n",
       "    </tr>\n",
       "  </thead>\n",
       "  <tbody>\n",
       "    <tr>\n",
       "      <th>Facebook Ads</th>\n",
       "      <td>95.873016</td>\n",
       "      <td>575.238095</td>\n",
       "      <td>6</td>\n",
       "      <td>638</td>\n",
       "      <td>1276</td>\n",
       "      <td>0.450814</td>\n",
       "    </tr>\n",
       "    <tr>\n",
       "      <th>Jelly</th>\n",
       "      <td>50.000000</td>\n",
       "      <td>50.000000</td>\n",
       "      <td>1</td>\n",
       "      <td>83</td>\n",
       "      <td>0</td>\n",
       "      <td>inf</td>\n",
       "    </tr>\n",
       "    <tr>\n",
       "      <th>adcolony_int</th>\n",
       "      <td>149.250298</td>\n",
       "      <td>2089.504167</td>\n",
       "      <td>14</td>\n",
       "      <td>2781</td>\n",
       "      <td>5562</td>\n",
       "      <td>0.375675</td>\n",
       "    </tr>\n",
       "    <tr>\n",
       "      <th>applifier_int</th>\n",
       "      <td>240.000000</td>\n",
       "      <td>240.000000</td>\n",
       "      <td>1</td>\n",
       "      <td>65</td>\n",
       "      <td>130</td>\n",
       "      <td>1.846154</td>\n",
       "    </tr>\n",
       "    <tr>\n",
       "      <th>from Agency</th>\n",
       "      <td>178.477425</td>\n",
       "      <td>5354.322735</td>\n",
       "      <td>30</td>\n",
       "      <td>6904</td>\n",
       "      <td>0</td>\n",
       "      <td>inf</td>\n",
       "    </tr>\n",
       "    <tr>\n",
       "      <th>googleadwords_int</th>\n",
       "      <td>180.284754</td>\n",
       "      <td>9194.522476</td>\n",
       "      <td>51</td>\n",
       "      <td>4629</td>\n",
       "      <td>9258</td>\n",
       "      <td>0.993143</td>\n",
       "    </tr>\n",
       "    <tr>\n",
       "      <th>jumprampgames_int</th>\n",
       "      <td>133.705467</td>\n",
       "      <td>11766.081133</td>\n",
       "      <td>88</td>\n",
       "      <td>5775</td>\n",
       "      <td>11550</td>\n",
       "      <td>1.018708</td>\n",
       "    </tr>\n",
       "    <tr>\n",
       "      <th>supersonicads_int</th>\n",
       "      <td>198.452967</td>\n",
       "      <td>1389.170768</td>\n",
       "      <td>7</td>\n",
       "      <td>1667</td>\n",
       "      <td>3334</td>\n",
       "      <td>0.416668</td>\n",
       "    </tr>\n",
       "    <tr>\n",
       "      <th>tapjoy_int</th>\n",
       "      <td>132.934127</td>\n",
       "      <td>3323.353181</td>\n",
       "      <td>25</td>\n",
       "      <td>5762</td>\n",
       "      <td>11524</td>\n",
       "      <td>0.288385</td>\n",
       "    </tr>\n",
       "    <tr>\n",
       "      <th>vungle_int</th>\n",
       "      <td>61.229466</td>\n",
       "      <td>183.688397</td>\n",
       "      <td>3</td>\n",
       "      <td>84</td>\n",
       "      <td>168</td>\n",
       "      <td>1.093383</td>\n",
       "    </tr>\n",
       "  </tbody>\n",
       "</table>\n",
       "</div>"
      ],
      "text/plain": [
       "                         ARPPU           LTV  Paying Users  Installs   Cost  \\\n",
       "Media Source (pid)                                                            \n",
       "Facebook Ads         95.873016    575.238095             6       638   1276   \n",
       "Jelly                50.000000     50.000000             1        83      0   \n",
       "adcolony_int        149.250298   2089.504167            14      2781   5562   \n",
       "applifier_int       240.000000    240.000000             1        65    130   \n",
       "from Agency         178.477425   5354.322735            30      6904      0   \n",
       "googleadwords_int   180.284754   9194.522476            51      4629   9258   \n",
       "jumprampgames_int   133.705467  11766.081133            88      5775  11550   \n",
       "supersonicads_int   198.452967   1389.170768             7      1667   3334   \n",
       "tapjoy_int          132.934127   3323.353181            25      5762  11524   \n",
       "vungle_int           61.229466    183.688397             3        84    168   \n",
       "\n",
       "                         ROI  \n",
       "Media Source (pid)            \n",
       "Facebook Ads        0.450814  \n",
       "Jelly                    inf  \n",
       "adcolony_int        0.375675  \n",
       "applifier_int       1.846154  \n",
       "from Agency              inf  \n",
       "googleadwords_int   0.993143  \n",
       "jumprampgames_int   1.018708  \n",
       "supersonicads_int   0.416668  \n",
       "tapjoy_int          0.288385  \n",
       "vungle_int          1.093383  "
      ]
     },
     "execution_count": 27,
     "metadata": {},
     "output_type": "execute_result"
    }
   ],
   "source": [
    "media = pd.DataFrame(avgmsource)\n",
    "media.columns = ['ARPPU']\n",
    "media['LTV'] = summsource\n",
    "media['Paying Users'] = paidinstalls_per_msource\n",
    "media['Installs'] = users_per_msource\n",
    "media['Cost'] = 2*media['Installs']\n",
    "media.loc['Jelly', 'Cost'] = 0\n",
    "media.loc['from Agency', 'Cost'] = 0\n",
    "media['ROI'] = media['LTV'] / media['Cost']\n",
    "media"
   ]
  },
  {
   "cell_type": "markdown",
   "metadata": {},
   "source": [
    "In this case the Media Source with the highest ARPPU also has the highest ROI, lets compare the other media sources."
   ]
  },
  {
   "cell_type": "code",
   "execution_count": 28,
   "metadata": {
    "collapsed": false
   },
   "outputs": [
    {
     "data": {
      "text/html": [
       "<div>\n",
       "<table border=\"1\" class=\"dataframe\">\n",
       "  <thead>\n",
       "    <tr style=\"text-align: right;\">\n",
       "      <th></th>\n",
       "      <th>ARPPU</th>\n",
       "      <th>ROI</th>\n",
       "    </tr>\n",
       "  </thead>\n",
       "  <tbody>\n",
       "    <tr>\n",
       "      <th>0</th>\n",
       "      <td>applifier_int</td>\n",
       "      <td>applifier_int</td>\n",
       "    </tr>\n",
       "    <tr>\n",
       "      <th>1</th>\n",
       "      <td>supersonicads_int</td>\n",
       "      <td>vungle_int</td>\n",
       "    </tr>\n",
       "    <tr>\n",
       "      <th>2</th>\n",
       "      <td>googleadwords_int</td>\n",
       "      <td>jumprampgames_int</td>\n",
       "    </tr>\n",
       "    <tr>\n",
       "      <th>3</th>\n",
       "      <td>from Agency</td>\n",
       "      <td>googleadwords_int</td>\n",
       "    </tr>\n",
       "    <tr>\n",
       "      <th>4</th>\n",
       "      <td>adcolony_int</td>\n",
       "      <td>Facebook Ads</td>\n",
       "    </tr>\n",
       "    <tr>\n",
       "      <th>6</th>\n",
       "      <td>tapjoy_int</td>\n",
       "      <td>supersonicads_int</td>\n",
       "    </tr>\n",
       "    <tr>\n",
       "      <th>8</th>\n",
       "      <td>vungle_int</td>\n",
       "      <td>adcolony_int</td>\n",
       "    </tr>\n",
       "    <tr>\n",
       "      <th>9</th>\n",
       "      <td>Jelly</td>\n",
       "      <td>tapjoy_int</td>\n",
       "    </tr>\n",
       "  </tbody>\n",
       "</table>\n",
       "</div>"
      ],
      "text/plain": [
       "               ARPPU                ROI\n",
       "0      applifier_int      applifier_int\n",
       "1  supersonicads_int         vungle_int\n",
       "2  googleadwords_int  jumprampgames_int\n",
       "3        from Agency  googleadwords_int\n",
       "4       adcolony_int       Facebook Ads\n",
       "6         tapjoy_int  supersonicads_int\n",
       "8         vungle_int       adcolony_int\n",
       "9              Jelly         tapjoy_int"
      ]
     },
     "execution_count": 28,
     "metadata": {},
     "output_type": "execute_result"
    }
   ],
   "source": [
    "compare = pd.DataFrame()\n",
    "compare['ARPPU'] = media.sort_values('ARPPU', ascending = False).index\n",
    "compare = compare.drop([5,7])\n",
    "compare['ROI'] = media.sort_values('ROI', ascending = False).index[2:]\n",
    "compare"
   ]
  },
  {
   "cell_type": "markdown",
   "metadata": {},
   "source": [
    "They are not the same. So highest ARPPU may not necessarily indicate highest ROI, this is likely because the quality of the generated Installs are different. the potential users were perhaps aquired in different countries, or different areas of the internet which attract people of different social, economic or cultural backrounds . Applifier only generated one paying user so this too is likely a fluke. "
   ]
  },
  {
   "cell_type": "code",
   "execution_count": 29,
   "metadata": {
    "collapsed": true
   },
   "outputs": [],
   "source": [
    "import matplotlib.pyplot as plt\n",
    "%matplotlib inline"
   ]
  },
  {
   "cell_type": "code",
   "execution_count": 30,
   "metadata": {
    "collapsed": false
   },
   "outputs": [
    {
     "data": {
      "text/plain": [
       "array(['StartGame', 'TutorialEnded', 'FBConnect', 'InviteSent',\n",
       "       'FinishIsland_1', 'Sale', 'PirateBought', 'FinishIsland_22',\n",
       "       'FinishIsland_2', 'FinishIsland_18', 'FinishIsland_9',\n",
       "       'FinishIsland_4', 'FinishIsland_3', 'FinishIsland_5',\n",
       "       'FinishIsland_11', 'FinishIsland_10', 'FinishIsland_23',\n",
       "       'FinishIsland_13', 'FinishIsland_6', 'FinishIsland_20',\n",
       "       'FinishIsland_16', 'FinishIsland_8', 'FinishIsland_12',\n",
       "       'FinishIsland_14', 'FinishIsland_17', 'FinishIsland_7'], dtype=object)"
      ]
     },
     "execution_count": 30,
     "metadata": {},
     "output_type": "execute_result"
    }
   ],
   "source": [
    "events = pd.unique(game['Event Name'])\n",
    "events"
   ]
  },
  {
   "cell_type": "code",
   "execution_count": 31,
   "metadata": {
    "collapsed": false,
    "scrolled": true
   },
   "outputs": [],
   "source": [
    "import numpy as np\n",
    "import re\n",
    "\n",
    "df = pd.DataFrame(game['Event Name'])\n",
    "df.columns = ['Value']\n",
    "df.index.name = 'position'\n",
    "df = df.reset_index()\n",
    "def isFinish(x):\n",
    "    return bool(re.match(r'.*Finish.*', x.ix['Value']))\n",
    "\n",
    "def isSale(x):\n",
    "    return bool(re.match(r'.*Sale.*', x.ix['Value']))\n",
    "\n",
    "df['Finish'] = df.apply(isFinish, axis=1)\n",
    "df['Sale'] = df.apply(isSale, axis=1)\n",
    "df['FinishCount'] = df.Finish.cumsum()\n",
    "\n",
    "def cumargmax(x):\n",
    "    if x.ix['FinishCount'] == 0:\n",
    "        return np.nan\n",
    "    else:\n",
    "        return df.FinishCount.loc[:x.ix['position']].argmax()\n",
    "\n",
    "df['Distance'] = df.position - df.apply(cumargmax, axis=1)"
   ]
  },
  {
   "cell_type": "code",
   "execution_count": 32,
   "metadata": {
    "collapsed": false
   },
   "outputs": [
    {
     "data": {
      "text/plain": [
       "8664"
      ]
     },
     "execution_count": 32,
     "metadata": {},
     "output_type": "execute_result"
    }
   ],
   "source": [
    "sum(df['Finish'])"
   ]
  },
  {
   "cell_type": "code",
   "execution_count": 33,
   "metadata": {
    "collapsed": false,
    "scrolled": true
   },
   "outputs": [],
   "source": [
    "df['Uniform_distribution'] = np.zeros(shape = (200000,1))\n",
    "for x in np.random.permutation(df.index)[:8664]:\n",
    "    df.loc[x ,'Uniform_distribution'] = 1"
   ]
  },
  {
   "cell_type": "code",
   "execution_count": 34,
   "metadata": {
    "collapsed": false,
    "scrolled": true
   },
   "outputs": [],
   "source": [
    "df['RandCount'] = df['Uniform_distribution'].cumsum()"
   ]
  },
  {
   "cell_type": "code",
   "execution_count": 35,
   "metadata": {
    "collapsed": false,
    "scrolled": true
   },
   "outputs": [
    {
     "data": {
      "text/html": [
       "<div>\n",
       "<table border=\"1\" class=\"dataframe\">\n",
       "  <thead>\n",
       "    <tr style=\"text-align: right;\">\n",
       "      <th></th>\n",
       "      <th>position</th>\n",
       "      <th>Value</th>\n",
       "      <th>Finish</th>\n",
       "      <th>Sale</th>\n",
       "      <th>FinishCount</th>\n",
       "      <th>Distance</th>\n",
       "      <th>Uniform_distribution</th>\n",
       "      <th>RandCount</th>\n",
       "      <th>randDistance</th>\n",
       "    </tr>\n",
       "  </thead>\n",
       "  <tbody>\n",
       "    <tr>\n",
       "      <th>199995</th>\n",
       "      <td>199995</td>\n",
       "      <td>PirateBought</td>\n",
       "      <td>False</td>\n",
       "      <td>False</td>\n",
       "      <td>8664</td>\n",
       "      <td>23</td>\n",
       "      <td>0</td>\n",
       "      <td>8664</td>\n",
       "      <td>9</td>\n",
       "    </tr>\n",
       "    <tr>\n",
       "      <th>199996</th>\n",
       "      <td>199996</td>\n",
       "      <td>StartGame</td>\n",
       "      <td>False</td>\n",
       "      <td>False</td>\n",
       "      <td>8664</td>\n",
       "      <td>24</td>\n",
       "      <td>0</td>\n",
       "      <td>8664</td>\n",
       "      <td>10</td>\n",
       "    </tr>\n",
       "    <tr>\n",
       "      <th>199997</th>\n",
       "      <td>199997</td>\n",
       "      <td>StartGame</td>\n",
       "      <td>False</td>\n",
       "      <td>False</td>\n",
       "      <td>8664</td>\n",
       "      <td>25</td>\n",
       "      <td>0</td>\n",
       "      <td>8664</td>\n",
       "      <td>11</td>\n",
       "    </tr>\n",
       "    <tr>\n",
       "      <th>199998</th>\n",
       "      <td>199998</td>\n",
       "      <td>StartGame</td>\n",
       "      <td>False</td>\n",
       "      <td>False</td>\n",
       "      <td>8664</td>\n",
       "      <td>26</td>\n",
       "      <td>0</td>\n",
       "      <td>8664</td>\n",
       "      <td>12</td>\n",
       "    </tr>\n",
       "    <tr>\n",
       "      <th>199999</th>\n",
       "      <td>199999</td>\n",
       "      <td>TutorialEnded</td>\n",
       "      <td>False</td>\n",
       "      <td>False</td>\n",
       "      <td>8664</td>\n",
       "      <td>27</td>\n",
       "      <td>0</td>\n",
       "      <td>8664</td>\n",
       "      <td>13</td>\n",
       "    </tr>\n",
       "  </tbody>\n",
       "</table>\n",
       "</div>"
      ],
      "text/plain": [
       "        position          Value Finish   Sale  FinishCount  Distance  \\\n",
       "199995    199995   PirateBought  False  False         8664        23   \n",
       "199996    199996      StartGame  False  False         8664        24   \n",
       "199997    199997      StartGame  False  False         8664        25   \n",
       "199998    199998      StartGame  False  False         8664        26   \n",
       "199999    199999  TutorialEnded  False  False         8664        27   \n",
       "\n",
       "        Uniform_distribution  RandCount  randDistance  \n",
       "199995                     0       8664             9  \n",
       "199996                     0       8664            10  \n",
       "199997                     0       8664            11  \n",
       "199998                     0       8664            12  \n",
       "199999                     0       8664            13  "
      ]
     },
     "execution_count": 35,
     "metadata": {},
     "output_type": "execute_result"
    }
   ],
   "source": [
    "def cumargmaxrand(x):\n",
    "    if x.ix['RandCount'] == 0:\n",
    "        return np.nan\n",
    "    else:\n",
    "        return df.RandCount.loc[:x.ix['position']].argmax()\n",
    "\n",
    "df['randDistance'] = df.position - df.apply(cumargmaxrand, axis=1)\n",
    "df.tail()"
   ]
  },
  {
   "cell_type": "code",
   "execution_count": 36,
   "metadata": {
    "collapsed": false,
    "scrolled": true
   },
   "outputs": [
    {
     "data": {
      "image/png": "[encoded data removed]",
      "text/plain": [
       "<matplotlib.figure.Figure at 0x1e60b02f828>"
      ]
     },
     "metadata": {},
     "output_type": "display_data"
    }
   ],
   "source": [
    "f_artpred = df[df['Sale']]\n",
    "import matplotlib.pyplot as plt\n",
    "% matplotlib inline\n",
    "plt.hist(f_artpred['randDistance'], bins = 100)\n",
    "plt.show()"
   ]
  },
  {
   "cell_type": "code",
   "execution_count": 37,
   "metadata": {
    "collapsed": false,
    "scrolled": true
   },
   "outputs": [
    {
     "data": {
      "text/html": [
       "<div>\n",
       "<table border=\"1\" class=\"dataframe\">\n",
       "  <thead>\n",
       "    <tr style=\"text-align: right;\">\n",
       "      <th></th>\n",
       "      <th>position</th>\n",
       "      <th>Value</th>\n",
       "      <th>Finish</th>\n",
       "      <th>Sale</th>\n",
       "      <th>Uniform_distribution</th>\n",
       "      <th>RandCount</th>\n",
       "      <th>randDistance</th>\n",
       "      <th>FinishCount</th>\n",
       "      <th>Distance</th>\n",
       "    </tr>\n",
       "  </thead>\n",
       "  <tbody>\n",
       "    <tr>\n",
       "      <th>199995</th>\n",
       "      <td>199995</td>\n",
       "      <td>StartGame</td>\n",
       "      <td>False</td>\n",
       "      <td>False</td>\n",
       "      <td>0</td>\n",
       "      <td>0</td>\n",
       "      <td>NaN</td>\n",
       "      <td>8664</td>\n",
       "      <td>207</td>\n",
       "    </tr>\n",
       "    <tr>\n",
       "      <th>199996</th>\n",
       "      <td>199996</td>\n",
       "      <td>StartGame</td>\n",
       "      <td>False</td>\n",
       "      <td>False</td>\n",
       "      <td>0</td>\n",
       "      <td>0</td>\n",
       "      <td>NaN</td>\n",
       "      <td>8664</td>\n",
       "      <td>208</td>\n",
       "    </tr>\n",
       "    <tr>\n",
       "      <th>199997</th>\n",
       "      <td>199997</td>\n",
       "      <td>StartGame</td>\n",
       "      <td>False</td>\n",
       "      <td>False</td>\n",
       "      <td>0</td>\n",
       "      <td>0</td>\n",
       "      <td>NaN</td>\n",
       "      <td>8664</td>\n",
       "      <td>209</td>\n",
       "    </tr>\n",
       "    <tr>\n",
       "      <th>199998</th>\n",
       "      <td>199998</td>\n",
       "      <td>StartGame</td>\n",
       "      <td>False</td>\n",
       "      <td>False</td>\n",
       "      <td>0</td>\n",
       "      <td>0</td>\n",
       "      <td>NaN</td>\n",
       "      <td>8664</td>\n",
       "      <td>210</td>\n",
       "    </tr>\n",
       "    <tr>\n",
       "      <th>199999</th>\n",
       "      <td>199999</td>\n",
       "      <td>StartGame</td>\n",
       "      <td>False</td>\n",
       "      <td>False</td>\n",
       "      <td>0</td>\n",
       "      <td>0</td>\n",
       "      <td>NaN</td>\n",
       "      <td>8664</td>\n",
       "      <td>211</td>\n",
       "    </tr>\n",
       "  </tbody>\n",
       "</table>\n",
       "</div>"
      ],
      "text/plain": [
       "        position      Value Finish   Sale  Uniform_distribution  RandCount  \\\n",
       "199995    199995  StartGame  False  False                     0          0   \n",
       "199996    199996  StartGame  False  False                     0          0   \n",
       "199997    199997  StartGame  False  False                     0          0   \n",
       "199998    199998  StartGame  False  False                     0          0   \n",
       "199999    199999  StartGame  False  False                     0          0   \n",
       "\n",
       "        randDistance  FinishCount  Distance  \n",
       "199995           NaN         8664       207  \n",
       "199996           NaN         8664       208  \n",
       "199997           NaN         8664       209  \n",
       "199998           NaN         8664       210  \n",
       "199999           NaN         8664       211  "
      ]
     },
     "execution_count": 37,
     "metadata": {},
     "output_type": "execute_result"
    }
   ],
   "source": [
    "def cumargmax2(x):\n",
    "    if x.ix['FinishCount'] == 0:\n",
    "        return np.nan\n",
    "    else:\n",
    "        return df2.FinishCount.loc[:x.ix['position']].argmax()\n",
    "\n",
    "\n",
    "df2 = df.sort_values('position', axis = 0, ascending = False).drop(['FinishCount', 'Distance'], axis = 1)\n",
    "df2 = df2.reset_index(drop = True)\n",
    "df2['position'] = df2.index\n",
    "df2['FinishCount'] = df2['Finish'].cumsum()\n",
    "df2['Distance'] = df2['position'] - df2.apply(cumargmax2, axis = 1)\n",
    "df2.tail()"
   ]
  },
  {
   "cell_type": "code",
   "execution_count": null,
   "metadata": {
    "collapsed": true
   },
   "outputs": [],
   "source": []
  },
  {
   "cell_type": "code",
   "execution_count": 38,
   "metadata": {
    "collapsed": false,
    "scrolled": true
   },
   "outputs": [],
   "source": [
    "f_pred = df[df['Sale']]"
   ]
  },
  {
   "cell_type": "code",
   "execution_count": 39,
   "metadata": {
    "collapsed": false,
    "scrolled": true
   },
   "outputs": [],
   "source": [
    "f2_pred = df2[df2['Sale']]"
   ]
  },
  {
   "cell_type": "code",
   "execution_count": 40,
   "metadata": {
    "collapsed": false,
    "scrolled": true
   },
   "outputs": [],
   "source": [
    "f2_pred = f2_pred.sort_values('position', ascending = False)\n",
    "f2_pred.index = f_pred.index\n",
    "f2_pred['position'] = f_pred['position']"
   ]
  },
  {
   "cell_type": "code",
   "execution_count": 41,
   "metadata": {
    "collapsed": false,
    "scrolled": true
   },
   "outputs": [],
   "source": [
    "pred_bothways = pd.DataFrame()\n",
    "pred_bothways['position'] = f2_pred['position']\n",
    "pred_bothways['Distance_back'] = f2_pred['Distance']\n",
    "pred_bothways['Distance_forward'] = f_pred['Distance']\n",
    "pred_bothways = pred_bothways.set_index('position')\n",
    "pred_bothways['rand_Distance'] = f_artpred['randDistance']"
   ]
  },
  {
   "cell_type": "code",
   "execution_count": 42,
   "metadata": {
    "collapsed": false
   },
   "outputs": [
    {
     "data": {
      "image/png": "[encoded data removed]",
      "text/plain": [
       "<matplotlib.figure.Figure at 0x1e60b874198>"
      ]
     },
     "metadata": {},
     "output_type": "display_data"
    }
   ],
   "source": [
    "plt.figure(figsize = (25,10)).add_subplot(211)\n",
    "plt.subplot(211).set_title('Sales to Finishing Islands')\n",
    "plt.subplot(211).set_ylabel('How far ahead in the data, did someone finish an Island')\n",
    "plt.subplot(211).set_xlabel('Position of Sale in data set')\n",
    "plt.subplot(211).scatter(f_pred['position'], f_pred['Distance'], color = 'red')\n",
    "plt.subplot(211).get_xaxis().set_visible(False)\n",
    "\n",
    "plt.subplot(212).set_ylabel('How far back in the data, did someone finish an Island | ')\n",
    "plt.subplot(212).set_xlabel('Position of Sale in data set')\n",
    "plt.subplot(212).set_ylim(-50,200)\n",
    "plt.subplot(212).scatter(f2_pred['position'], f2_pred['Distance'])\n",
    "plt.subplot(212).set_yticks(np.arange(-50,200,50))\n",
    "\n",
    "plt.subplots_adjust(hspace = 0)\n"
   ]
  },
  {
   "cell_type": "code",
   "execution_count": 43,
   "metadata": {
    "collapsed": false,
    "scrolled": false
   },
   "outputs": [
    {
     "data": {
      "image/png": "[encoded data removed]",
      "text/plain": [
       "<matplotlib.figure.Figure at 0x1e613030be0>"
      ]
     },
     "metadata": {},
     "output_type": "display_data"
    }
   ],
   "source": [
    "plt.figure(figsize = (25,5)).add_subplot(111).set(ylabel = 'Did someone finish an island', xlabel = 'position of sale in data set', title = 'Sales to Finishing Islands')\n",
    "plt.subplot(111).scatter(pred_bothways.index, pred_bothways['Distance_back'], color = 'blue', label = 'How far back')\n",
    "plt.subplot(111).scatter(pred_bothways.index, pred_bothways['Distance_forward'], color = 'red', label = 'How far ahead')\n",
    "plt.legend(loc = 'upper left')\n",
    "plt.show()"
   ]
  },
  {
   "cell_type": "code",
   "execution_count": 44,
   "metadata": {
    "collapsed": false
   },
   "outputs": [
    {
     "data": {
      "image/png": "[encoded data removed]",
      "text/plain": [
       "<matplotlib.figure.Figure at 0x1e61303f160>"
      ]
     },
     "metadata": {},
     "output_type": "display_data"
    }
   ],
   "source": [
    "plt.figure(figsize = (20,10)).add_subplot(211)\n",
    "plt.subplot(211).hist(pred_bothways['Distance_back'], bins = 100)\n",
    "plt.subplot(211).set_title('Histogrom for finishing Islands')\n",
    "plt.subplot(211).set_ylabel('How far back did someone finish an Island', rotation = 0, labelpad = 120)\n",
    "plt.subplot(211).get_xaxis().set_visible(False)\n",
    "\n",
    "plt.subplot(212).hist(pred_bothways['rand_Distance'], bins = 100)\n",
    "plt.subplot(212).set_ylim(0,60)\n",
    "plt.subplot(212).set_ylabel('Random Distance', rotation = 0, labelpad = 50)\n",
    "\n",
    "plt.tight_layout()"
   ]
  },
  {
   "cell_type": "code",
   "execution_count": 45,
   "metadata": {
    "collapsed": false,
    "scrolled": true
   },
   "outputs": [
    {
     "data": {
      "text/html": [
       "<div>\n",
       "<table border=\"1\" class=\"dataframe\">\n",
       "  <thead>\n",
       "    <tr style=\"text-align: right;\">\n",
       "      <th></th>\n",
       "      <th>Distance_back</th>\n",
       "      <th>Distance_forward</th>\n",
       "      <th>rand_Distance</th>\n",
       "      <th>Total_Distance</th>\n",
       "      <th>Min_Distance</th>\n",
       "    </tr>\n",
       "    <tr>\n",
       "      <th>position</th>\n",
       "      <th></th>\n",
       "      <th></th>\n",
       "      <th></th>\n",
       "      <th></th>\n",
       "      <th></th>\n",
       "    </tr>\n",
       "  </thead>\n",
       "  <tbody>\n",
       "    <tr>\n",
       "      <th>380</th>\n",
       "      <td>13</td>\n",
       "      <td>54</td>\n",
       "      <td>8</td>\n",
       "      <td>75</td>\n",
       "      <td>8</td>\n",
       "    </tr>\n",
       "    <tr>\n",
       "      <th>1823</th>\n",
       "      <td>3</td>\n",
       "      <td>17</td>\n",
       "      <td>11</td>\n",
       "      <td>31</td>\n",
       "      <td>3</td>\n",
       "    </tr>\n",
       "    <tr>\n",
       "      <th>1827</th>\n",
       "      <td>33</td>\n",
       "      <td>1</td>\n",
       "      <td>15</td>\n",
       "      <td>49</td>\n",
       "      <td>1</td>\n",
       "    </tr>\n",
       "    <tr>\n",
       "      <th>1829</th>\n",
       "      <td>31</td>\n",
       "      <td>3</td>\n",
       "      <td>17</td>\n",
       "      <td>51</td>\n",
       "      <td>3</td>\n",
       "    </tr>\n",
       "    <tr>\n",
       "      <th>1830</th>\n",
       "      <td>30</td>\n",
       "      <td>4</td>\n",
       "      <td>18</td>\n",
       "      <td>52</td>\n",
       "      <td>4</td>\n",
       "    </tr>\n",
       "  </tbody>\n",
       "</table>\n",
       "</div>"
      ],
      "text/plain": [
       "          Distance_back  Distance_forward  rand_Distance  Total_Distance  \\\n",
       "position                                                                   \n",
       "380                  13                54              8              75   \n",
       "1823                  3                17             11              31   \n",
       "1827                 33                 1             15              49   \n",
       "1829                 31                 3             17              51   \n",
       "1830                 30                 4             18              52   \n",
       "\n",
       "          Min_Distance  \n",
       "position                \n",
       "380                  8  \n",
       "1823                 3  \n",
       "1827                 1  \n",
       "1829                 3  \n",
       "1830                 4  "
      ]
     },
     "execution_count": 45,
     "metadata": {},
     "output_type": "execute_result"
    }
   ],
   "source": [
    "pred_bothways['Total_Distance'] = pred_bothways.sum(axis = 1)\n",
    "pred_bothways['Min_Distance'] = pred_bothways.min(axis = 1)\n",
    "pred_bothways.head()"
   ]
  },
  {
   "cell_type": "code",
   "execution_count": 46,
   "metadata": {
    "collapsed": false
   },
   "outputs": [
    {
     "data": {
      "image/png": "[encoded data removed]",
      "text/plain": [
       "<matplotlib.figure.Figure at 0x1e61303c198>"
      ]
     },
     "metadata": {},
     "output_type": "display_data"
    }
   ],
   "source": [
    "plt.hist(pred_bothways['Total_Distance'], bins = 100)\n",
    "plt.title('Histogrom for finishing Islands')\n",
    "plt.xlabel('Total distance of finish an Island')\n",
    "plt.show()"
   ]
  },
  {
   "cell_type": "code",
   "execution_count": 47,
   "metadata": {
    "collapsed": false
   },
   "outputs": [
    {
     "data": {
      "image/png": "[encoded data removed]",
      "text/plain": [
       "<matplotlib.figure.Figure at 0x1e610604d68>"
      ]
     },
     "metadata": {},
     "output_type": "display_data"
    }
   ],
   "source": [
    "plt.hist(pred_bothways['Min_Distance'], bins = 100)\n",
    "plt.title('Histogrom for finishing Islands')\n",
    "plt.xlabel('Min distance of finish an Island')\n",
    "plt.show()"
   ]
  },
  {
   "cell_type": "code",
   "execution_count": 48,
   "metadata": {
    "collapsed": false
   },
   "outputs": [
    {
     "data": {
      "image/png": "[encoded data removed]",
      "text/plain": [
       "<matplotlib.figure.Figure at 0x1e6106b9518>"
      ]
     },
     "metadata": {},
     "output_type": "display_data"
    }
   ],
   "source": [
    "plt.figure(figsize = (25,10)).add_subplot(211)\n",
    "plt.subplot(211).set_title('Sales to Finishing Islands')\n",
    "plt.subplot(211).set_ylabel('Min Distance')\n",
    "plt.subplot(211).set_xlabel('Position of Sale in data set')\n",
    "plt.subplot(211).scatter(pred_bothways.index, pred_bothways['Min_Distance'], color = 'green')\n",
    "plt.subplot(211).get_xaxis().set_visible(False)\n",
    "plt.subplot(211).set_ylim(-50, 200)\n",
    "plt.subplot(212).set_ylabel('Sum Distance')\n",
    "plt.subplot(212).set_xlabel('Position of Sale in data set')\n",
    "\n",
    "plt.subplot(212).scatter(pred_bothways.index, pred_bothways['Total_Distance'], color = 'brown')\n",
    "plt.subplot(212).set_yticks(np.arange(-50,200,50))\n",
    "\n",
    "plt.subplots_adjust(hspace = 0)"
   ]
  },
  {
   "cell_type": "code",
   "execution_count": 49,
   "metadata": {
    "collapsed": false
   },
   "outputs": [],
   "source": [
    "xgame = pd.concat([game, pred_bothways], axis = 1)"
   ]
  },
  {
   "cell_type": "code",
   "execution_count": 50,
   "metadata": {
    "collapsed": false
   },
   "outputs": [
    {
     "data": {
      "text/html": [
       "<div>\n",
       "<table border=\"1\" class=\"dataframe\">\n",
       "  <thead>\n",
       "    <tr style=\"text-align: right;\">\n",
       "      <th></th>\n",
       "      <th>Install Time</th>\n",
       "      <th>Event Time</th>\n",
       "      <th>Event Name</th>\n",
       "      <th>Event Value</th>\n",
       "      <th>Event Revenue</th>\n",
       "      <th>Agency/PMD (af_prt)</th>\n",
       "      <th>Media Source (pid)</th>\n",
       "      <th>Campaign Name (c)</th>\n",
       "      <th>Campaign ID (af_c_id)</th>\n",
       "      <th>Adset Name (af_adset)</th>\n",
       "      <th>...</th>\n",
       "      <th>OS Version</th>\n",
       "      <th>SDK Version</th>\n",
       "      <th>App Version</th>\n",
       "      <th>Carrier</th>\n",
       "      <th>Sub Param 1 (af_sub1)</th>\n",
       "      <th>Distance_back</th>\n",
       "      <th>Distance_forward</th>\n",
       "      <th>rand_Distance</th>\n",
       "      <th>Total_Distance</th>\n",
       "      <th>Min_Distance</th>\n",
       "    </tr>\n",
       "    <tr>\n",
       "      <th>position</th>\n",
       "      <th></th>\n",
       "      <th></th>\n",
       "      <th></th>\n",
       "      <th></th>\n",
       "      <th></th>\n",
       "      <th></th>\n",
       "      <th></th>\n",
       "      <th></th>\n",
       "      <th></th>\n",
       "      <th></th>\n",
       "      <th></th>\n",
       "      <th></th>\n",
       "      <th></th>\n",
       "      <th></th>\n",
       "      <th></th>\n",
       "      <th></th>\n",
       "      <th></th>\n",
       "      <th></th>\n",
       "      <th></th>\n",
       "      <th></th>\n",
       "      <th></th>\n",
       "    </tr>\n",
       "  </thead>\n",
       "  <tbody>\n",
       "    <tr>\n",
       "      <th>0</th>\n",
       "      <td>42438.34722</td>\n",
       "      <td>42438.34722</td>\n",
       "      <td>StartGame</td>\n",
       "      <td>NaN</td>\n",
       "      <td>NaN</td>\n",
       "      <td>Fyber</td>\n",
       "      <td>NaN</td>\n",
       "      <td>US_FBConnect</td>\n",
       "      <td>NaN</td>\n",
       "      <td>NaN</td>\n",
       "      <td>...</td>\n",
       "      <td>22</td>\n",
       "      <td>v3.3.0</td>\n",
       "      <td>2.5.2</td>\n",
       "      <td>T-Mobile</td>\n",
       "      <td>12680</td>\n",
       "      <td>NaN</td>\n",
       "      <td>NaN</td>\n",
       "      <td>NaN</td>\n",
       "      <td>NaN</td>\n",
       "      <td>NaN</td>\n",
       "    </tr>\n",
       "    <tr>\n",
       "      <th>1</th>\n",
       "      <td>42438.34653</td>\n",
       "      <td>42438.34722</td>\n",
       "      <td>StartGame</td>\n",
       "      <td>NaN</td>\n",
       "      <td>NaN</td>\n",
       "      <td>NaN</td>\n",
       "      <td>supersonicads_int</td>\n",
       "      <td>FBC_US_Android_Feb2016</td>\n",
       "      <td>NaN</td>\n",
       "      <td>NaN</td>\n",
       "      <td>...</td>\n",
       "      <td>19</td>\n",
       "      <td>v3.3.0</td>\n",
       "      <td>2.5.2</td>\n",
       "      <td>Extended Network</td>\n",
       "      <td>NaN</td>\n",
       "      <td>NaN</td>\n",
       "      <td>NaN</td>\n",
       "      <td>NaN</td>\n",
       "      <td>NaN</td>\n",
       "      <td>NaN</td>\n",
       "    </tr>\n",
       "    <tr>\n",
       "      <th>2</th>\n",
       "      <td>42438.34653</td>\n",
       "      <td>42438.34722</td>\n",
       "      <td>StartGame</td>\n",
       "      <td>NaN</td>\n",
       "      <td>NaN</td>\n",
       "      <td>NaN</td>\n",
       "      <td>tapjoy_int</td>\n",
       "      <td>TapJoy_US_Android_FBC</td>\n",
       "      <td>NaN</td>\n",
       "      <td>NaN</td>\n",
       "      <td>...</td>\n",
       "      <td>19</td>\n",
       "      <td>v3.3.0</td>\n",
       "      <td>2.5.2</td>\n",
       "      <td>NaN</td>\n",
       "      <td>NaN</td>\n",
       "      <td>NaN</td>\n",
       "      <td>NaN</td>\n",
       "      <td>NaN</td>\n",
       "      <td>NaN</td>\n",
       "      <td>NaN</td>\n",
       "    </tr>\n",
       "    <tr>\n",
       "      <th>3</th>\n",
       "      <td>42438.34583</td>\n",
       "      <td>42438.34653</td>\n",
       "      <td>StartGame</td>\n",
       "      <td>NaN</td>\n",
       "      <td>NaN</td>\n",
       "      <td>NaN</td>\n",
       "      <td>supersonicads_int</td>\n",
       "      <td>FBC_US_Android_Feb2016</td>\n",
       "      <td>NaN</td>\n",
       "      <td>NaN</td>\n",
       "      <td>...</td>\n",
       "      <td>17</td>\n",
       "      <td>v3.3.0</td>\n",
       "      <td>2.5.2</td>\n",
       "      <td>NaN</td>\n",
       "      <td>NaN</td>\n",
       "      <td>NaN</td>\n",
       "      <td>NaN</td>\n",
       "      <td>NaN</td>\n",
       "      <td>NaN</td>\n",
       "      <td>NaN</td>\n",
       "    </tr>\n",
       "    <tr>\n",
       "      <th>4</th>\n",
       "      <td>42438.34583</td>\n",
       "      <td>42438.34722</td>\n",
       "      <td>StartGame</td>\n",
       "      <td>NaN</td>\n",
       "      <td>NaN</td>\n",
       "      <td>NaN</td>\n",
       "      <td>supersonicads_int</td>\n",
       "      <td>FBC_US_Android_Feb2016</td>\n",
       "      <td>NaN</td>\n",
       "      <td>NaN</td>\n",
       "      <td>...</td>\n",
       "      <td>17</td>\n",
       "      <td>v3.3.0</td>\n",
       "      <td>2.5.2</td>\n",
       "      <td>NaN</td>\n",
       "      <td>NaN</td>\n",
       "      <td>NaN</td>\n",
       "      <td>NaN</td>\n",
       "      <td>NaN</td>\n",
       "      <td>NaN</td>\n",
       "      <td>NaN</td>\n",
       "    </tr>\n",
       "  </tbody>\n",
       "</table>\n",
       "<p>5 rows × 38 columns</p>\n",
       "</div>"
      ],
      "text/plain": [
       "          Install Time   Event Time Event Name Event Value  Event Revenue  \\\n",
       "position                                                                    \n",
       "0          42438.34722  42438.34722  StartGame         NaN            NaN   \n",
       "1          42438.34653  42438.34722  StartGame         NaN            NaN   \n",
       "2          42438.34653  42438.34722  StartGame         NaN            NaN   \n",
       "3          42438.34583  42438.34653  StartGame         NaN            NaN   \n",
       "4          42438.34583  42438.34722  StartGame         NaN            NaN   \n",
       "\n",
       "         Agency/PMD (af_prt) Media Source (pid)       Campaign Name (c)  \\\n",
       "position                                                                  \n",
       "0                      Fyber                NaN            US_FBConnect   \n",
       "1                        NaN  supersonicads_int  FBC_US_Android_Feb2016   \n",
       "2                        NaN         tapjoy_int   TapJoy_US_Android_FBC   \n",
       "3                        NaN  supersonicads_int  FBC_US_Android_Feb2016   \n",
       "4                        NaN  supersonicads_int  FBC_US_Android_Feb2016   \n",
       "\n",
       "          Campaign ID (af_c_id) Adset Name (af_adset)     ...       \\\n",
       "position                                                  ...        \n",
       "0                           NaN                   NaN     ...        \n",
       "1                           NaN                   NaN     ...        \n",
       "2                           NaN                   NaN     ...        \n",
       "3                           NaN                   NaN     ...        \n",
       "4                           NaN                   NaN     ...        \n",
       "\n",
       "          OS Version SDK Version App Version           Carrier  \\\n",
       "position                                                         \n",
       "0                 22      v3.3.0       2.5.2          T-Mobile   \n",
       "1                 19      v3.3.0       2.5.2  Extended Network   \n",
       "2                 19      v3.3.0       2.5.2               NaN   \n",
       "3                 17      v3.3.0       2.5.2               NaN   \n",
       "4                 17      v3.3.0       2.5.2               NaN   \n",
       "\n",
       "         Sub Param 1 (af_sub1)  Distance_back Distance_forward  rand_Distance  \\\n",
       "position                                                                        \n",
       "0                        12680            NaN              NaN            NaN   \n",
       "1                          NaN            NaN              NaN            NaN   \n",
       "2                          NaN            NaN              NaN            NaN   \n",
       "3                          NaN            NaN              NaN            NaN   \n",
       "4                          NaN            NaN              NaN            NaN   \n",
       "\n",
       "         Total_Distance Min_Distance  \n",
       "position                              \n",
       "0                   NaN          NaN  \n",
       "1                   NaN          NaN  \n",
       "2                   NaN          NaN  \n",
       "3                   NaN          NaN  \n",
       "4                   NaN          NaN  \n",
       "\n",
       "[5 rows x 38 columns]"
      ]
     },
     "execution_count": 50,
     "metadata": {},
     "output_type": "execute_result"
    }
   ],
   "source": [
    "xgame.head()"
   ]
  },
  {
   "cell_type": "code",
   "execution_count": 51,
   "metadata": {
    "collapsed": false
   },
   "outputs": [
    {
     "data": {
      "text/plain": [
       "Index(['Install Time', 'Event Time', 'Event Name', 'Event Value',\n",
       "       'Event Revenue', 'Agency/PMD (af_prt)', 'Media Source (pid)',\n",
       "       'Campaign Name (c)', 'Campaign ID (af_c_id)', 'Adset Name (af_adset)',\n",
       "       'Adset ID (af_adset_id)', 'Ad Name (af_ad)', 'Ad ID (af_ad_id)',\n",
       "       'Ad Type (af_ad_type)', 'Site Id (af_siteid)', 'Region', 'Country Code',\n",
       "       'State', 'City', 'IP', 'WIFI', 'Language', 'Appsflyer Device Id',\n",
       "       'Customer User Id', 'Android Id', 'IMEI', 'Advertising Id',\n",
       "       'Device Type', 'OS Version', 'SDK Version', 'App Version', 'Carrier',\n",
       "       'Sub Param 1 (af_sub1)', 'Distance_back', 'Distance_forward',\n",
       "       'rand_Distance', 'Total_Distance', 'Min_Distance'],\n",
       "      dtype='object')"
      ]
     },
     "execution_count": 51,
     "metadata": {},
     "output_type": "execute_result"
    }
   ],
   "source": [
    "xgame.columns"
   ]
  },
  {
   "cell_type": "code",
   "execution_count": 52,
   "metadata": {
    "collapsed": false
   },
   "outputs": [],
   "source": [
    "def Create_Dummies(column):\n",
    "    dummy = pd.DataFrame()\n",
    "    for value in column.unique()[1:]:\n",
    "        dummy[column.name + \" \" + str(value)] = (column == value).astype(int)\n",
    "    return(dummy)"
   ]
  },
  {
   "cell_type": "code",
   "execution_count": 53,
   "metadata": {
    "collapsed": false
   },
   "outputs": [
    {
     "data": {
      "text/html": [
       "<div>\n",
       "<table border=\"1\" class=\"dataframe\">\n",
       "  <thead>\n",
       "    <tr style=\"text-align: right;\">\n",
       "      <th></th>\n",
       "      <th>App Version</th>\n",
       "      <th>City</th>\n",
       "      <th>Country Code</th>\n",
       "      <th>Device Type</th>\n",
       "      <th>Language</th>\n",
       "      <th>Media Source (pid)</th>\n",
       "      <th>OS Version</th>\n",
       "      <th>SDK Version</th>\n",
       "      <th>WIFI</th>\n",
       "      <th>Event Revenue</th>\n",
       "    </tr>\n",
       "    <tr>\n",
       "      <th>Appsflyer Device Id</th>\n",
       "      <th></th>\n",
       "      <th></th>\n",
       "      <th></th>\n",
       "      <th></th>\n",
       "      <th></th>\n",
       "      <th></th>\n",
       "      <th></th>\n",
       "      <th></th>\n",
       "      <th></th>\n",
       "      <th></th>\n",
       "    </tr>\n",
       "  </thead>\n",
       "  <tbody>\n",
       "    <tr>\n",
       "      <th>1425357163585-654996821511552825</th>\n",
       "      <td>2.5.2</td>\n",
       "      <td>Renton</td>\n",
       "      <td>US</td>\n",
       "      <td>google-Nexus 7</td>\n",
       "      <td>English</td>\n",
       "      <td>adcolony_int</td>\n",
       "      <td>18</td>\n",
       "      <td>v3.3.0</td>\n",
       "      <td>Yes</td>\n",
       "      <td>NaN</td>\n",
       "    </tr>\n",
       "    <tr>\n",
       "      <th>1430059298371-1264097189305637251</th>\n",
       "      <td>2.5.2</td>\n",
       "      <td>Leek</td>\n",
       "      <td>GB</td>\n",
       "      <td>samsung-SM-T315</td>\n",
       "      <td>English</td>\n",
       "      <td>tapjoy_int</td>\n",
       "      <td>19</td>\n",
       "      <td>v3.3.0</td>\n",
       "      <td>Yes</td>\n",
       "      <td>NaN</td>\n",
       "    </tr>\n",
       "    <tr>\n",
       "      <th>1432650013648-6657660726589971894</th>\n",
       "      <td>2.5.2</td>\n",
       "      <td>None</td>\n",
       "      <td>GB</td>\n",
       "      <td>Hudl-Hudl 2</td>\n",
       "      <td>English</td>\n",
       "      <td>tapjoy_int</td>\n",
       "      <td>22</td>\n",
       "      <td>v3.3.0</td>\n",
       "      <td>Yes</td>\n",
       "      <td>NaN</td>\n",
       "    </tr>\n",
       "    <tr>\n",
       "      <th>1437771045898-4679909348972568764</th>\n",
       "      <td>2.5.2</td>\n",
       "      <td>Brighton</td>\n",
       "      <td>GB</td>\n",
       "      <td>samsung-SM-T210</td>\n",
       "      <td>English</td>\n",
       "      <td>adcolony_int</td>\n",
       "      <td>19</td>\n",
       "      <td>v3.3.0</td>\n",
       "      <td>Yes</td>\n",
       "      <td>NaN</td>\n",
       "    </tr>\n",
       "    <tr>\n",
       "      <th>1439673615262-5292704774687873598</th>\n",
       "      <td>2.5.0</td>\n",
       "      <td>Holland</td>\n",
       "      <td>US</td>\n",
       "      <td>MetroPCS-LGMS345</td>\n",
       "      <td>English</td>\n",
       "      <td>adcolony_int</td>\n",
       "      <td>21</td>\n",
       "      <td>v3.3.0</td>\n",
       "      <td>No</td>\n",
       "      <td>NaN</td>\n",
       "    </tr>\n",
       "  </tbody>\n",
       "</table>\n",
       "</div>"
      ],
      "text/plain": [
       "                                  App Version      City Country Code  \\\n",
       "Appsflyer Device Id                                                    \n",
       "1425357163585-654996821511552825        2.5.2    Renton           US   \n",
       "1430059298371-1264097189305637251       2.5.2      Leek           GB   \n",
       "1432650013648-6657660726589971894       2.5.2      None           GB   \n",
       "1437771045898-4679909348972568764       2.5.2  Brighton           GB   \n",
       "1439673615262-5292704774687873598       2.5.0   Holland           US   \n",
       "\n",
       "                                        Device Type Language  \\\n",
       "Appsflyer Device Id                                            \n",
       "1425357163585-654996821511552825     google-Nexus 7  English   \n",
       "1430059298371-1264097189305637251   samsung-SM-T315  English   \n",
       "1432650013648-6657660726589971894       Hudl-Hudl 2  English   \n",
       "1437771045898-4679909348972568764   samsung-SM-T210  English   \n",
       "1439673615262-5292704774687873598  MetroPCS-LGMS345  English   \n",
       "\n",
       "                                  Media Source (pid)  OS Version SDK Version  \\\n",
       "Appsflyer Device Id                                                            \n",
       "1425357163585-654996821511552825        adcolony_int          18      v3.3.0   \n",
       "1430059298371-1264097189305637251         tapjoy_int          19      v3.3.0   \n",
       "1432650013648-6657660726589971894         tapjoy_int          22      v3.3.0   \n",
       "1437771045898-4679909348972568764       adcolony_int          19      v3.3.0   \n",
       "1439673615262-5292704774687873598       adcolony_int          21      v3.3.0   \n",
       "\n",
       "                                  WIFI  Event Revenue  \n",
       "Appsflyer Device Id                                    \n",
       "1425357163585-654996821511552825   Yes            NaN  \n",
       "1430059298371-1264097189305637251  Yes            NaN  \n",
       "1432650013648-6657660726589971894  Yes            NaN  \n",
       "1437771045898-4679909348972568764  Yes            NaN  \n",
       "1439673615262-5292704774687873598   No            NaN  "
      ]
     },
     "execution_count": 53,
     "metadata": {},
     "output_type": "execute_result"
    }
   ],
   "source": [
    "revenue_per_person = pd.pivot_table(cleangame, index = 'Appsflyer Device Id', values = 'Event Revenue', aggfunc = sum )\n",
    "rest = pd.pivot_table(cleangame, values = ['Media Source (pid)', 'Region', 'Country Code', 'State', 'City', 'WIFI', 'Language', 'Device Type', \n",
    "                                    'OS Version', 'SDK Version', 'App Version', 'Carrier'], index = 'Appsflyer Device Id', aggfunc = min)\n",
    "nmodel = pd.concat([rest, revenue_per_person], axis = 1)\n",
    "nmodel.head()"
   ]
  },
  {
   "cell_type": "code",
   "execution_count": 54,
   "metadata": {
    "collapsed": false
   },
   "outputs": [],
   "source": [
    "nmodel['Event Revenue'] = nmodel['Event Revenue'].fillna(0)"
   ]
  },
  {
   "cell_type": "code",
   "execution_count": 55,
   "metadata": {
    "collapsed": false
   },
   "outputs": [
    {
     "data": {
      "text/plain": [
       "Index(['App Version', 'City', 'Country Code', 'Device Type', 'Language',\n",
       "       'Media Source (pid)', 'OS Version', 'SDK Version', 'WIFI',\n",
       "       'Event Revenue'],\n",
       "      dtype='object')"
      ]
     },
     "execution_count": 55,
     "metadata": {},
     "output_type": "execute_result"
    }
   ],
   "source": [
    "nmodel.columns"
   ]
  },
  {
   "cell_type": "code",
   "execution_count": 56,
   "metadata": {
    "collapsed": false
   },
   "outputs": [
    {
     "data": {
      "text/html": [
       "<div>\n",
       "<table border=\"1\" class=\"dataframe\">\n",
       "  <thead>\n",
       "    <tr style=\"text-align: right;\">\n",
       "      <th></th>\n",
       "      <th>App Version 2.5.0</th>\n",
       "      <th>App Version 2.4.0</th>\n",
       "      <th>App Version 2.3.0</th>\n",
       "      <th>App Version 2.2.7</th>\n",
       "      <th>App Version 2.2.3</th>\n",
       "      <th>Country Code GB</th>\n",
       "      <th>Country Code EG</th>\n",
       "      <th>Country Code IN</th>\n",
       "      <th>Country Code UA</th>\n",
       "      <th>Country Code IQ</th>\n",
       "      <th>...</th>\n",
       "      <th>OS Version 22</th>\n",
       "      <th>OS Version 21</th>\n",
       "      <th>OS Version 17</th>\n",
       "      <th>OS Version 15</th>\n",
       "      <th>OS Version 23</th>\n",
       "      <th>OS Version 16</th>\n",
       "      <th>OS Version 10</th>\n",
       "      <th>SDK Version v2.3.1.19</th>\n",
       "      <th>SDK Version v2.3.1.17</th>\n",
       "      <th>WIFI No</th>\n",
       "    </tr>\n",
       "    <tr>\n",
       "      <th>Appsflyer Device Id</th>\n",
       "      <th></th>\n",
       "      <th></th>\n",
       "      <th></th>\n",
       "      <th></th>\n",
       "      <th></th>\n",
       "      <th></th>\n",
       "      <th></th>\n",
       "      <th></th>\n",
       "      <th></th>\n",
       "      <th></th>\n",
       "      <th></th>\n",
       "      <th></th>\n",
       "      <th></th>\n",
       "      <th></th>\n",
       "      <th></th>\n",
       "      <th></th>\n",
       "      <th></th>\n",
       "      <th></th>\n",
       "      <th></th>\n",
       "      <th></th>\n",
       "      <th></th>\n",
       "    </tr>\n",
       "  </thead>\n",
       "  <tbody>\n",
       "    <tr>\n",
       "      <th>1425357163585-654996821511552825</th>\n",
       "      <td>0</td>\n",
       "      <td>0</td>\n",
       "      <td>0</td>\n",
       "      <td>0</td>\n",
       "      <td>0</td>\n",
       "      <td>0</td>\n",
       "      <td>0</td>\n",
       "      <td>0</td>\n",
       "      <td>0</td>\n",
       "      <td>0</td>\n",
       "      <td>...</td>\n",
       "      <td>0</td>\n",
       "      <td>0</td>\n",
       "      <td>0</td>\n",
       "      <td>0</td>\n",
       "      <td>0</td>\n",
       "      <td>0</td>\n",
       "      <td>0</td>\n",
       "      <td>0</td>\n",
       "      <td>0</td>\n",
       "      <td>0</td>\n",
       "    </tr>\n",
       "    <tr>\n",
       "      <th>1430059298371-1264097189305637251</th>\n",
       "      <td>0</td>\n",
       "      <td>0</td>\n",
       "      <td>0</td>\n",
       "      <td>0</td>\n",
       "      <td>0</td>\n",
       "      <td>1</td>\n",
       "      <td>0</td>\n",
       "      <td>0</td>\n",
       "      <td>0</td>\n",
       "      <td>0</td>\n",
       "      <td>...</td>\n",
       "      <td>0</td>\n",
       "      <td>0</td>\n",
       "      <td>0</td>\n",
       "      <td>0</td>\n",
       "      <td>0</td>\n",
       "      <td>0</td>\n",
       "      <td>0</td>\n",
       "      <td>0</td>\n",
       "      <td>0</td>\n",
       "      <td>0</td>\n",
       "    </tr>\n",
       "    <tr>\n",
       "      <th>1432650013648-6657660726589971894</th>\n",
       "      <td>0</td>\n",
       "      <td>0</td>\n",
       "      <td>0</td>\n",
       "      <td>0</td>\n",
       "      <td>0</td>\n",
       "      <td>1</td>\n",
       "      <td>0</td>\n",
       "      <td>0</td>\n",
       "      <td>0</td>\n",
       "      <td>0</td>\n",
       "      <td>...</td>\n",
       "      <td>1</td>\n",
       "      <td>0</td>\n",
       "      <td>0</td>\n",
       "      <td>0</td>\n",
       "      <td>0</td>\n",
       "      <td>0</td>\n",
       "      <td>0</td>\n",
       "      <td>0</td>\n",
       "      <td>0</td>\n",
       "      <td>0</td>\n",
       "    </tr>\n",
       "    <tr>\n",
       "      <th>1437771045898-4679909348972568764</th>\n",
       "      <td>0</td>\n",
       "      <td>0</td>\n",
       "      <td>0</td>\n",
       "      <td>0</td>\n",
       "      <td>0</td>\n",
       "      <td>1</td>\n",
       "      <td>0</td>\n",
       "      <td>0</td>\n",
       "      <td>0</td>\n",
       "      <td>0</td>\n",
       "      <td>...</td>\n",
       "      <td>0</td>\n",
       "      <td>0</td>\n",
       "      <td>0</td>\n",
       "      <td>0</td>\n",
       "      <td>0</td>\n",
       "      <td>0</td>\n",
       "      <td>0</td>\n",
       "      <td>0</td>\n",
       "      <td>0</td>\n",
       "      <td>0</td>\n",
       "    </tr>\n",
       "    <tr>\n",
       "      <th>1439673615262-5292704774687873598</th>\n",
       "      <td>1</td>\n",
       "      <td>0</td>\n",
       "      <td>0</td>\n",
       "      <td>0</td>\n",
       "      <td>0</td>\n",
       "      <td>0</td>\n",
       "      <td>0</td>\n",
       "      <td>0</td>\n",
       "      <td>0</td>\n",
       "      <td>0</td>\n",
       "      <td>...</td>\n",
       "      <td>0</td>\n",
       "      <td>1</td>\n",
       "      <td>0</td>\n",
       "      <td>0</td>\n",
       "      <td>0</td>\n",
       "      <td>0</td>\n",
       "      <td>0</td>\n",
       "      <td>0</td>\n",
       "      <td>0</td>\n",
       "      <td>1</td>\n",
       "    </tr>\n",
       "  </tbody>\n",
       "</table>\n",
       "<p>5 rows × 155 columns</p>\n",
       "</div>"
      ],
      "text/plain": [
       "                                   App Version 2.5.0  App Version 2.4.0  \\\n",
       "Appsflyer Device Id                                                       \n",
       "1425357163585-654996821511552825                   0                  0   \n",
       "1430059298371-1264097189305637251                  0                  0   \n",
       "1432650013648-6657660726589971894                  0                  0   \n",
       "1437771045898-4679909348972568764                  0                  0   \n",
       "1439673615262-5292704774687873598                  1                  0   \n",
       "\n",
       "                                   App Version 2.3.0  App Version 2.2.7  \\\n",
       "Appsflyer Device Id                                                       \n",
       "1425357163585-654996821511552825                   0                  0   \n",
       "1430059298371-1264097189305637251                  0                  0   \n",
       "1432650013648-6657660726589971894                  0                  0   \n",
       "1437771045898-4679909348972568764                  0                  0   \n",
       "1439673615262-5292704774687873598                  0                  0   \n",
       "\n",
       "                                   App Version 2.2.3  Country Code GB  \\\n",
       "Appsflyer Device Id                                                     \n",
       "1425357163585-654996821511552825                   0                0   \n",
       "1430059298371-1264097189305637251                  0                1   \n",
       "1432650013648-6657660726589971894                  0                1   \n",
       "1437771045898-4679909348972568764                  0                1   \n",
       "1439673615262-5292704774687873598                  0                0   \n",
       "\n",
       "                                   Country Code EG  Country Code IN  \\\n",
       "Appsflyer Device Id                                                   \n",
       "1425357163585-654996821511552825                 0                0   \n",
       "1430059298371-1264097189305637251                0                0   \n",
       "1432650013648-6657660726589971894                0                0   \n",
       "1437771045898-4679909348972568764                0                0   \n",
       "1439673615262-5292704774687873598                0                0   \n",
       "\n",
       "                                   Country Code UA  Country Code IQ   ...     \\\n",
       "Appsflyer Device Id                                                   ...      \n",
       "1425357163585-654996821511552825                 0                0   ...      \n",
       "1430059298371-1264097189305637251                0                0   ...      \n",
       "1432650013648-6657660726589971894                0                0   ...      \n",
       "1437771045898-4679909348972568764                0                0   ...      \n",
       "1439673615262-5292704774687873598                0                0   ...      \n",
       "\n",
       "                                   OS Version 22  OS Version 21  \\\n",
       "Appsflyer Device Id                                               \n",
       "1425357163585-654996821511552825               0              0   \n",
       "1430059298371-1264097189305637251              0              0   \n",
       "1432650013648-6657660726589971894              1              0   \n",
       "1437771045898-4679909348972568764              0              0   \n",
       "1439673615262-5292704774687873598              0              1   \n",
       "\n",
       "                                   OS Version 17  OS Version 15  \\\n",
       "Appsflyer Device Id                                               \n",
       "1425357163585-654996821511552825               0              0   \n",
       "1430059298371-1264097189305637251              0              0   \n",
       "1432650013648-6657660726589971894              0              0   \n",
       "1437771045898-4679909348972568764              0              0   \n",
       "1439673615262-5292704774687873598              0              0   \n",
       "\n",
       "                                   OS Version 23  OS Version 16  \\\n",
       "Appsflyer Device Id                                               \n",
       "1425357163585-654996821511552825               0              0   \n",
       "1430059298371-1264097189305637251              0              0   \n",
       "1432650013648-6657660726589971894              0              0   \n",
       "1437771045898-4679909348972568764              0              0   \n",
       "1439673615262-5292704774687873598              0              0   \n",
       "\n",
       "                                   OS Version 10  SDK Version v2.3.1.19  \\\n",
       "Appsflyer Device Id                                                       \n",
       "1425357163585-654996821511552825               0                      0   \n",
       "1430059298371-1264097189305637251              0                      0   \n",
       "1432650013648-6657660726589971894              0                      0   \n",
       "1437771045898-4679909348972568764              0                      0   \n",
       "1439673615262-5292704774687873598              0                      0   \n",
       "\n",
       "                                   SDK Version v2.3.1.17  WIFI No  \n",
       "Appsflyer Device Id                                                \n",
       "1425357163585-654996821511552825                       0        0  \n",
       "1430059298371-1264097189305637251                      0        0  \n",
       "1432650013648-6657660726589971894                      0        0  \n",
       "1437771045898-4679909348972568764                      0        0  \n",
       "1439673615262-5292704774687873598                      0        1  \n",
       "\n",
       "[5 rows x 155 columns]"
      ]
     },
     "execution_count": 56,
     "metadata": {},
     "output_type": "execute_result"
    }
   ],
   "source": [
    "xcol = ['App Version', 'Country Code', 'Language',\n",
    "       'Media Source (pid)', 'OS Version', 'SDK Version', 'WIFI']\n",
    "dummy_nmodel = pd.DataFrame()\n",
    "for col in xcol:\n",
    "    dummy_x = Create_Dummies(nmodel[col])\n",
    "    dummy_nmodel = pd.concat([dummy_nmodel, dummy_x], axis = 1)\n",
    "\n",
    "dummy_nmodel.head()"
   ]
  },
  {
   "cell_type": "code",
   "execution_count": 57,
   "metadata": {
    "collapsed": false
   },
   "outputs": [],
   "source": [
    "dummy_nmodel['Revenue'] = nmodel['Event Revenue']\n"
   ]
  },
  {
   "cell_type": "code",
   "execution_count": 58,
   "metadata": {
    "collapsed": true
   },
   "outputs": [],
   "source": [
    "dummy_nmodel['Sale'] = (dummy_nmodel['Revenue'] > 0).astype(int)"
   ]
  },
  {
   "cell_type": "code",
   "execution_count": 59,
   "metadata": {
    "collapsed": false
   },
   "outputs": [],
   "source": [
    "import statsmodels.api as sm\n",
    "resultOLS = sm.OLS(dummy_nmodel['Revenue'], sm.add_constant(dummy_nmodel.drop(['Revenue', 'Sale'], axis = 1))).fit()"
   ]
  },
  {
   "cell_type": "code",
   "execution_count": 60,
   "metadata": {
    "collapsed": false
   },
   "outputs": [
    {
     "name": "stdout",
     "output_type": "stream",
     "text": [
      "[]\n"
     ]
    }
   ],
   "source": [
    "lip =[]\n",
    "for col in dummy_nmodel.columns:\n",
    "    if len(dummy_nmodel.loc[dummy_nmodel[col] == 1]) == 0:\n",
    "        lip.append(col)\n",
    "        \n",
    "print (lip)"
   ]
  },
  {
   "cell_type": "code",
   "execution_count": 61,
   "metadata": {
    "collapsed": false
   },
   "outputs": [],
   "source": [
    "dummy_nmodel = dummy_nmodel.fillna(0)"
   ]
  },
  {
   "cell_type": "code",
   "execution_count": 62,
   "metadata": {
    "collapsed": false
   },
   "outputs": [
    {
     "name": "stdout",
     "output_type": "stream",
     "text": [
      "Country Code None 1.90144322871 0.017354349808\n",
      "WIFI No 0.193585852132 6.14806565533e-07\n"
     ]
    }
   ],
   "source": [
    "for i, p in enumerate(resultOLS.pvalues):\n",
    "    if p < 0.06:\n",
    "        print (dummy_nmodel.columns[i - 1], resultOLS.params[i], p)\n"
   ]
  },
  {
   "cell_type": "code",
   "execution_count": 63,
   "metadata": {
    "collapsed": false
   },
   "outputs": [
    {
     "data": {
      "text/html": [
       "<table class=\"simpletable\">\n",
       "<caption>OLS Regression Results</caption>\n",
       "<tr>\n",
       "  <th>Dep. Variable:</th>         <td>Revenue</td>     <th>  R-squared:         </th> <td>   0.002</td> \n",
       "</tr>\n",
       "<tr>\n",
       "  <th>Model:</th>                   <td>OLS</td>       <th>  Adj. R-squared:    </th> <td>  -0.004</td> \n",
       "</tr>\n",
       "<tr>\n",
       "  <th>Method:</th>             <td>Least Squares</td>  <th>  F-statistic:       </th> <td>  0.2972</td> \n",
       "</tr>\n",
       "<tr>\n",
       "  <th>Date:</th>             <td>Sun, 29 May 2016</td> <th>  Prob (F-statistic):</th>  <td>  1.00</td>  \n",
       "</tr>\n",
       "<tr>\n",
       "  <th>Time:</th>                 <td>14:05:45</td>     <th>  Log-Likelihood:    </th> <td> -69741.</td> \n",
       "</tr>\n",
       "<tr>\n",
       "  <th>No. Observations:</th>      <td> 28396</td>      <th>  AIC:               </th> <td>1.398e+05</td>\n",
       "</tr>\n",
       "<tr>\n",
       "  <th>Df Residuals:</th>          <td> 28244</td>      <th>  BIC:               </th> <td>1.410e+05</td>\n",
       "</tr>\n",
       "<tr>\n",
       "  <th>Df Model:</th>              <td>   151</td>      <th>                     </th>     <td> </td>    \n",
       "</tr>\n",
       "<tr>\n",
       "  <th>Covariance Type:</th>      <td>nonrobust</td>    <th>                     </th>     <td> </td>    \n",
       "</tr>\n",
       "</table>\n",
       "<table class=\"simpletable\">\n",
       "<tr>\n",
       "                    <td></td>                      <th>coef</th>     <th>std err</th>      <th>t</th>      <th>P>|t|</th> <th>[95.0% Conf. Int.]</th> \n",
       "</tr>\n",
       "<tr>\n",
       "  <th>const</th>                                <td>    0.0160</td> <td>    0.127</td> <td>    0.126</td> <td> 0.900</td> <td>   -0.234     0.266</td>\n",
       "</tr>\n",
       "<tr>\n",
       "  <th>App Version 2.5.0</th>                    <td>   -0.1485</td> <td>    1.079</td> <td>   -0.138</td> <td> 0.890</td> <td>   -2.263     1.966</td>\n",
       "</tr>\n",
       "<tr>\n",
       "  <th>App Version 2.4.0</th>                    <td>   -0.1212</td> <td>    0.727</td> <td>   -0.167</td> <td> 0.868</td> <td>   -1.546     1.304</td>\n",
       "</tr>\n",
       "<tr>\n",
       "  <th>App Version 2.3.0</th>                    <td>   -0.0352</td> <td>    0.720</td> <td>   -0.049</td> <td> 0.961</td> <td>   -1.447     1.377</td>\n",
       "</tr>\n",
       "<tr>\n",
       "  <th>App Version 2.2.7</th>                    <td>   -0.1084</td> <td>    2.140</td> <td>   -0.051</td> <td> 0.960</td> <td>   -4.304     4.087</td>\n",
       "</tr>\n",
       "<tr>\n",
       "  <th>App Version 2.2.3</th>                    <td>   -0.0085</td> <td>    2.130</td> <td>   -0.004</td> <td> 0.997</td> <td>   -4.183     4.166</td>\n",
       "</tr>\n",
       "<tr>\n",
       "  <th>Country Code GB</th>                      <td>   -0.0108</td> <td>    0.045</td> <td>   -0.240</td> <td> 0.810</td> <td>   -0.099     0.077</td>\n",
       "</tr>\n",
       "<tr>\n",
       "  <th>Country Code EG</th>                      <td>   -0.0299</td> <td>    0.574</td> <td>   -0.052</td> <td> 0.959</td> <td>   -1.155     1.096</td>\n",
       "</tr>\n",
       "<tr>\n",
       "  <th>Country Code IN</th>                      <td>   -0.0393</td> <td>    0.596</td> <td>   -0.066</td> <td> 0.948</td> <td>   -1.208     1.130</td>\n",
       "</tr>\n",
       "<tr>\n",
       "  <th>Country Code UA</th>                      <td>    0.0849</td> <td>    0.388</td> <td>    0.219</td> <td> 0.827</td> <td>   -0.675     0.845</td>\n",
       "</tr>\n",
       "<tr>\n",
       "  <th>Country Code IQ</th>                      <td>    0.0172</td> <td>    0.370</td> <td>    0.046</td> <td> 0.963</td> <td>   -0.709     0.743</td>\n",
       "</tr>\n",
       "<tr>\n",
       "  <th>Country Code GU</th>                      <td>   -0.1616</td> <td>    1.266</td> <td>   -0.128</td> <td> 0.898</td> <td>   -2.643     2.320</td>\n",
       "</tr>\n",
       "<tr>\n",
       "  <th>Country Code MX</th>                      <td>    0.0145</td> <td>    0.557</td> <td>    0.026</td> <td> 0.979</td> <td>   -1.077     1.106</td>\n",
       "</tr>\n",
       "<tr>\n",
       "  <th>Country Code LB</th>                      <td>   -0.0474</td> <td>    1.280</td> <td>   -0.037</td> <td> 0.970</td> <td>   -2.557     2.462</td>\n",
       "</tr>\n",
       "<tr>\n",
       "  <th>Country Code GE</th>                      <td>   -0.0571</td> <td>    2.001</td> <td>   -0.029</td> <td> 0.977</td> <td>   -3.978     3.864</td>\n",
       "</tr>\n",
       "<tr>\n",
       "  <th>Country Code DZ</th>                      <td>    0.1082</td> <td>    2.024</td> <td>    0.053</td> <td> 0.957</td> <td>   -3.859     4.075</td>\n",
       "</tr>\n",
       "<tr>\n",
       "  <th>Country Code PR</th>                      <td>   -0.0853</td> <td>    0.732</td> <td>   -0.117</td> <td> 0.907</td> <td>   -1.519     1.349</td>\n",
       "</tr>\n",
       "<tr>\n",
       "  <th>Country Code RO</th>                      <td>    0.0016</td> <td>    0.638</td> <td>    0.002</td> <td> 0.998</td> <td>   -1.250     1.253</td>\n",
       "</tr>\n",
       "<tr>\n",
       "  <th>Country Code SY</th>                      <td>   -0.0768</td> <td>    1.007</td> <td>   -0.076</td> <td> 0.939</td> <td>   -2.051     1.898</td>\n",
       "</tr>\n",
       "<tr>\n",
       "  <th>Country Code RU</th>                      <td>    0.0879</td> <td>    0.323</td> <td>    0.272</td> <td> 0.786</td> <td>   -0.546     0.722</td>\n",
       "</tr>\n",
       "<tr>\n",
       "  <th>Country Code FR</th>                      <td>    0.0710</td> <td>    1.037</td> <td>    0.068</td> <td> 0.945</td> <td>   -1.961     2.103</td>\n",
       "</tr>\n",
       "<tr>\n",
       "  <th>Country Code BA</th>                      <td>   -0.0664</td> <td>    2.004</td> <td>   -0.033</td> <td> 0.974</td> <td>   -3.994     3.861</td>\n",
       "</tr>\n",
       "<tr>\n",
       "  <th>Country Code AZ</th>                      <td>    0.0720</td> <td>    1.640</td> <td>    0.044</td> <td> 0.965</td> <td>   -3.143     3.287</td>\n",
       "</tr>\n",
       "<tr>\n",
       "  <th>Country Code VE</th>                      <td>    0.0313</td> <td>    0.631</td> <td>    0.050</td> <td> 0.960</td> <td>   -1.205     1.267</td>\n",
       "</tr>\n",
       "<tr>\n",
       "  <th>Country Code MY</th>                      <td>   -0.1484</td> <td>    0.967</td> <td>   -0.153</td> <td> 0.878</td> <td>   -2.044     1.747</td>\n",
       "</tr>\n",
       "<tr>\n",
       "  <th>Country Code MD</th>                      <td>    0.0929</td> <td>    0.964</td> <td>    0.096</td> <td> 0.923</td> <td>   -1.797     1.983</td>\n",
       "</tr>\n",
       "<tr>\n",
       "  <th>Country Code BY</th>                      <td>    0.0937</td> <td>    0.658</td> <td>    0.143</td> <td> 0.887</td> <td>   -1.195     1.383</td>\n",
       "</tr>\n",
       "<tr>\n",
       "  <th>Country Code JO</th>                      <td>   -0.0373</td> <td>    1.171</td> <td>   -0.032</td> <td> 0.975</td> <td>   -2.333     2.259</td>\n",
       "</tr>\n",
       "<tr>\n",
       "  <th>Country Code TR</th>                      <td>   -0.0165</td> <td>    0.779</td> <td>   -0.021</td> <td> 0.983</td> <td>   -1.544     1.511</td>\n",
       "</tr>\n",
       "<tr>\n",
       "  <th>Country Code VN</th>                      <td>   -0.0186</td> <td>    0.562</td> <td>   -0.033</td> <td> 0.974</td> <td>   -1.121     1.084</td>\n",
       "</tr>\n",
       "<tr>\n",
       "  <th>Country Code HK</th>                      <td>   -0.1068</td> <td>    2.002</td> <td>   -0.053</td> <td> 0.957</td> <td>   -4.031     3.817</td>\n",
       "</tr>\n",
       "<tr>\n",
       "  <th>Country Code PK</th>                      <td>   -0.0905</td> <td>    1.416</td> <td>   -0.064</td> <td> 0.949</td> <td>   -2.865     2.685</td>\n",
       "</tr>\n",
       "<tr>\n",
       "  <th>Country Code CA</th>                      <td>   -0.0962</td> <td>    0.509</td> <td>   -0.189</td> <td> 0.850</td> <td>   -1.093     0.901</td>\n",
       "</tr>\n",
       "<tr>\n",
       "  <th>Country Code TH</th>                      <td>   -0.0564</td> <td>    0.830</td> <td>   -0.068</td> <td> 0.946</td> <td>   -1.683     1.570</td>\n",
       "</tr>\n",
       "<tr>\n",
       "  <th>Country Code MN</th>                      <td>   -0.0745</td> <td>    1.282</td> <td>   -0.058</td> <td> 0.954</td> <td>   -2.588     2.439</td>\n",
       "</tr>\n",
       "<tr>\n",
       "  <th>Country Code AR</th>                      <td>    0.0328</td> <td>    0.902</td> <td>    0.036</td> <td> 0.971</td> <td>   -1.736     1.801</td>\n",
       "</tr>\n",
       "<tr>\n",
       "  <th>Country Code PL</th>                      <td>    0.0042</td> <td>    0.780</td> <td>    0.005</td> <td> 0.996</td> <td>   -1.524     1.533</td>\n",
       "</tr>\n",
       "<tr>\n",
       "  <th>Country Code IL</th>                      <td>   -0.0236</td> <td>    1.640</td> <td>   -0.014</td> <td> 0.989</td> <td>   -3.239     3.192</td>\n",
       "</tr>\n",
       "<tr>\n",
       "  <th>Country Code NL</th>                      <td>    0.0528</td> <td>    1.234</td> <td>    0.043</td> <td> 0.966</td> <td>   -2.365     2.471</td>\n",
       "</tr>\n",
       "<tr>\n",
       "  <th>Country Code ES</th>                      <td>    0.0454</td> <td>    0.697</td> <td>    0.065</td> <td> 0.948</td> <td>   -1.320     1.411</td>\n",
       "</tr>\n",
       "<tr>\n",
       "  <th>Country Code DE</th>                      <td>    0.0196</td> <td>    0.889</td> <td>    0.022</td> <td> 0.982</td> <td>   -1.723     1.763</td>\n",
       "</tr>\n",
       "<tr>\n",
       "  <th>Country Code ID</th>                      <td>   -0.0075</td> <td>    0.743</td> <td>   -0.010</td> <td> 0.992</td> <td>   -1.463     1.448</td>\n",
       "</tr>\n",
       "<tr>\n",
       "  <th>Country Code CO</th>                      <td>    0.0744</td> <td>    0.742</td> <td>    0.100</td> <td> 0.920</td> <td>   -1.380     1.529</td>\n",
       "</tr>\n",
       "<tr>\n",
       "  <th>Country Code BE</th>                      <td>    0.0568</td> <td>    1.348</td> <td>    0.042</td> <td> 0.966</td> <td>   -2.586     2.699</td>\n",
       "</tr>\n",
       "<tr>\n",
       "  <th>Country Code PH</th>                      <td>   -0.0074</td> <td>    1.415</td> <td>   -0.005</td> <td> 0.996</td> <td>   -2.781     2.766</td>\n",
       "</tr>\n",
       "<tr>\n",
       "  <th>Country Code BR</th>                      <td>    0.0181</td> <td>    0.579</td> <td>    0.031</td> <td> 0.975</td> <td>   -1.117     1.154</td>\n",
       "</tr>\n",
       "<tr>\n",
       "  <th>Country Code LT</th>                      <td>    0.0253</td> <td>    1.442</td> <td>    0.018</td> <td> 0.986</td> <td>   -2.802     2.853</td>\n",
       "</tr>\n",
       "<tr>\n",
       "  <th>Country Code SA</th>                      <td>   -0.0475</td> <td>    1.008</td> <td>   -0.047</td> <td> 0.962</td> <td>   -2.022     1.927</td>\n",
       "</tr>\n",
       "<tr>\n",
       "  <th>Country Code KW</th>                      <td>   -0.0845</td> <td>    1.072</td> <td>   -0.079</td> <td> 0.937</td> <td>   -2.185     2.016</td>\n",
       "</tr>\n",
       "<tr>\n",
       "  <th>Country Code A1</th>                      <td>   -0.0443</td> <td>    2.004</td> <td>   -0.022</td> <td> 0.982</td> <td>   -3.972     3.883</td>\n",
       "</tr>\n",
       "<tr>\n",
       "  <th>Country Code GR</th>                      <td>   -0.0028</td> <td>    1.041</td> <td>   -0.003</td> <td> 0.998</td> <td>   -2.042     2.037</td>\n",
       "</tr>\n",
       "<tr>\n",
       "  <th>Country Code IT</th>                      <td>    0.0215</td> <td>    1.181</td> <td>    0.018</td> <td> 0.985</td> <td>   -2.292     2.335</td>\n",
       "</tr>\n",
       "<tr>\n",
       "  <th>Country Code SI</th>                      <td>   -0.0060</td> <td>    2.829</td> <td>   -0.002</td> <td> 0.998</td> <td>   -5.551     5.539</td>\n",
       "</tr>\n",
       "<tr>\n",
       "  <th>Country Code KG</th>                      <td>   -0.0423</td> <td>    2.004</td> <td>   -0.021</td> <td> 0.983</td> <td>   -3.969     3.885</td>\n",
       "</tr>\n",
       "<tr>\n",
       "  <th>Country Code TW</th>                      <td>    0.0606</td> <td>    2.088</td> <td>    0.029</td> <td> 0.977</td> <td>   -4.032     4.153</td>\n",
       "</tr>\n",
       "<tr>\n",
       "  <th>Country Code MT</th>                      <td>   -0.0144</td> <td>    2.852</td> <td>   -0.005</td> <td> 0.996</td> <td>   -5.604     5.575</td>\n",
       "</tr>\n",
       "<tr>\n",
       "  <th>Country Code KZ</th>                      <td>    0.0780</td> <td>    1.025</td> <td>    0.076</td> <td> 0.939</td> <td>   -1.932     2.088</td>\n",
       "</tr>\n",
       "<tr>\n",
       "  <th>Country Code PE</th>                      <td>    0.0579</td> <td>    0.864</td> <td>    0.067</td> <td> 0.947</td> <td>   -1.635     1.750</td>\n",
       "</tr>\n",
       "<tr>\n",
       "  <th>Country Code NO</th>                      <td>   -0.0060</td> <td>    2.829</td> <td>   -0.002</td> <td> 0.998</td> <td>   -5.551     5.539</td>\n",
       "</tr>\n",
       "<tr>\n",
       "  <th>Country Code BD</th>                      <td>   -0.0052</td> <td>    1.266</td> <td>   -0.004</td> <td> 0.997</td> <td>   -2.486     2.476</td>\n",
       "</tr>\n",
       "<tr>\n",
       "  <th>Country Code None</th>                    <td>    1.9014</td> <td>    0.799</td> <td>    2.379</td> <td> 0.017</td> <td>    0.335     3.468</td>\n",
       "</tr>\n",
       "<tr>\n",
       "  <th>Country Code TN</th>                      <td>    0.1182</td> <td>    2.882</td> <td>    0.041</td> <td> 0.967</td> <td>   -5.530     5.767</td>\n",
       "</tr>\n",
       "<tr>\n",
       "  <th>Country Code VI</th>                      <td>   -0.0528</td> <td>    2.000</td> <td>   -0.026</td> <td> 0.979</td> <td>   -3.974     3.868</td>\n",
       "</tr>\n",
       "<tr>\n",
       "  <th>Country Code RS</th>                      <td>   -0.0325</td> <td>    2.830</td> <td>   -0.011</td> <td> 0.991</td> <td>   -5.579     5.514</td>\n",
       "</tr>\n",
       "<tr>\n",
       "  <th>Country Code EE</th>                      <td>   -0.0060</td> <td>    2.829</td> <td>   -0.002</td> <td> 0.998</td> <td>   -5.551     5.539</td>\n",
       "</tr>\n",
       "<tr>\n",
       "  <th>Country Code ZA</th>                      <td>   -0.0060</td> <td>    2.829</td> <td>   -0.002</td> <td> 0.998</td> <td>   -5.551     5.539</td>\n",
       "</tr>\n",
       "<tr>\n",
       "  <th>Country Code SG</th>                      <td>   -0.1266</td> <td>    1.640</td> <td>   -0.077</td> <td> 0.938</td> <td>   -3.342     3.088</td>\n",
       "</tr>\n",
       "<tr>\n",
       "  <th>Country Code KH</th>                      <td>   -0.0044</td> <td>    2.831</td> <td>   -0.002</td> <td> 0.999</td> <td>   -5.553     5.544</td>\n",
       "</tr>\n",
       "<tr>\n",
       "  <th>Country Code SV</th>                      <td>    0.0724</td> <td>    2.004</td> <td>    0.036</td> <td> 0.971</td> <td>   -3.856     4.001</td>\n",
       "</tr>\n",
       "<tr>\n",
       "  <th>Country Code BH</th>                      <td>   -0.0950</td> <td>    2.860</td> <td>   -0.033</td> <td> 0.974</td> <td>   -5.700     5.510</td>\n",
       "</tr>\n",
       "<tr>\n",
       "  <th>Country Code NP</th>                      <td>   -0.0060</td> <td>    2.001</td> <td>   -0.003</td> <td> 0.998</td> <td>   -3.928     3.916</td>\n",
       "</tr>\n",
       "<tr>\n",
       "  <th>Country Code AE</th>                      <td>   -0.1134</td> <td>    1.266</td> <td>   -0.090</td> <td> 0.929</td> <td>   -2.595     2.368</td>\n",
       "</tr>\n",
       "<tr>\n",
       "  <th>Country Code HU</th>                      <td>    0.0805</td> <td>    1.605</td> <td>    0.050</td> <td> 0.960</td> <td>   -3.066     3.227</td>\n",
       "</tr>\n",
       "<tr>\n",
       "  <th>Country Code AU</th>                      <td>   -0.1012</td> <td>    1.442</td> <td>   -0.070</td> <td> 0.944</td> <td>   -2.927     2.724</td>\n",
       "</tr>\n",
       "<tr>\n",
       "  <th>Country Code LY</th>                      <td>    0.1928</td> <td>    4.043</td> <td>    0.048</td> <td> 0.962</td> <td>   -7.731     8.117</td>\n",
       "</tr>\n",
       "<tr>\n",
       "  <th>Country Code MA</th>                      <td>    0.0240</td> <td>    2.019</td> <td>    0.012</td> <td> 0.991</td> <td>   -3.934     3.982</td>\n",
       "</tr>\n",
       "<tr>\n",
       "  <th>Country Code PT</th>                      <td>    0.0228</td> <td>    1.456</td> <td>    0.016</td> <td> 0.988</td> <td>   -2.831     2.877</td>\n",
       "</tr>\n",
       "<tr>\n",
       "  <th>Country Code DK</th>                      <td>   -0.0227</td> <td>    2.001</td> <td>   -0.011</td> <td> 0.991</td> <td>   -3.944     3.899</td>\n",
       "</tr>\n",
       "<tr>\n",
       "  <th>Country Code HR</th>                      <td>   -0.0030</td> <td>    1.000</td> <td>   -0.003</td> <td> 0.998</td> <td>   -1.964     1.958</td>\n",
       "</tr>\n",
       "<tr>\n",
       "  <th>Country Code AL</th>                      <td>   -0.0065</td> <td>    1.634</td> <td>   -0.004</td> <td> 0.997</td> <td>   -3.210     3.197</td>\n",
       "</tr>\n",
       "<tr>\n",
       "  <th>Country Code CL</th>                      <td>    0.0454</td> <td>    1.078</td> <td>    0.042</td> <td> 0.966</td> <td>   -2.068     2.159</td>\n",
       "</tr>\n",
       "<tr>\n",
       "  <th>Country Code DO</th>                      <td>    0.0323</td> <td>    2.002</td> <td>    0.016</td> <td> 0.987</td> <td>   -3.891     3.956</td>\n",
       "</tr>\n",
       "<tr>\n",
       "  <th>Country Code KR</th>                      <td>    0.0260</td> <td>    2.894</td> <td>    0.009</td> <td> 0.993</td> <td>   -5.646     5.698</td>\n",
       "</tr>\n",
       "<tr>\n",
       "  <th>Country Code MO</th>                      <td>   -0.2978</td> <td>    2.829</td> <td>   -0.105</td> <td> 0.916</td> <td>   -5.843     5.247</td>\n",
       "</tr>\n",
       "<tr>\n",
       "  <th>Country Code EC</th>                      <td>    0.0804</td> <td>    1.078</td> <td>    0.075</td> <td> 0.941</td> <td>   -2.032     2.193</td>\n",
       "</tr>\n",
       "<tr>\n",
       "  <th>Country Code FI</th>                      <td>   -0.0909</td> <td>    2.859</td> <td>   -0.032</td> <td> 0.975</td> <td>   -5.696     5.514</td>\n",
       "</tr>\n",
       "<tr>\n",
       "  <th>Country Code NZ</th>                      <td>    0.0097</td> <td>    2.853</td> <td>    0.003</td> <td> 0.997</td> <td>   -5.583     5.602</td>\n",
       "</tr>\n",
       "<tr>\n",
       "  <th>Country Code IM</th>                      <td>   -0.0122</td> <td>    2.009</td> <td>   -0.006</td> <td> 0.995</td> <td>   -3.950     3.925</td>\n",
       "</tr>\n",
       "<tr>\n",
       "  <th>Country Code CN</th>                      <td>    0.0577</td> <td>    2.056</td> <td>    0.028</td> <td> 0.978</td> <td>   -3.973     4.088</td>\n",
       "</tr>\n",
       "<tr>\n",
       "  <th>Country Code UY</th>                      <td>    0.0249</td> <td>    2.011</td> <td>    0.012</td> <td> 0.990</td> <td>   -3.917     3.967</td>\n",
       "</tr>\n",
       "<tr>\n",
       "  <th>Country Code CZ</th>                      <td>    0.0143</td> <td>    1.675</td> <td>    0.009</td> <td> 0.993</td> <td>   -3.269     3.297</td>\n",
       "</tr>\n",
       "<tr>\n",
       "  <th>Country Code BS</th>                      <td>   -0.0049</td> <td>    1.634</td> <td>   -0.003</td> <td> 0.998</td> <td>   -3.207     3.197</td>\n",
       "</tr>\n",
       "<tr>\n",
       "  <th>Country Code PS</th>                      <td>    0.0386</td> <td>    1.422</td> <td>    0.027</td> <td> 0.978</td> <td>   -2.749     2.826</td>\n",
       "</tr>\n",
       "<tr>\n",
       "  <th>Country Code JM</th>                      <td>   -0.0394</td> <td>    2.829</td> <td>   -0.014</td> <td> 0.989</td> <td>   -5.585     5.506</td>\n",
       "</tr>\n",
       "<tr>\n",
       "  <th>Country Code SE</th>                      <td>    0.1792</td> <td>    4.017</td> <td>    0.045</td> <td> 0.964</td> <td>   -7.695     8.054</td>\n",
       "</tr>\n",
       "<tr>\n",
       "  <th>Country Code LA</th>                      <td>   -0.1940</td> <td>    2.895</td> <td>   -0.067</td> <td> 0.947</td> <td>   -5.868     5.480</td>\n",
       "</tr>\n",
       "<tr>\n",
       "  <th>Country Code LV</th>                      <td>   -0.0619</td> <td>    3.268</td> <td>   -0.019</td> <td> 0.985</td> <td>   -6.468     6.344</td>\n",
       "</tr>\n",
       "<tr>\n",
       "  <th>Country Code TJ</th>                      <td>    0.1150</td> <td>    2.838</td> <td>    0.041</td> <td> 0.968</td> <td>   -5.447     5.677</td>\n",
       "</tr>\n",
       "<tr>\n",
       "  <th>Country Code MM</th>                      <td>   -0.1042</td> <td>    1.415</td> <td>   -0.074</td> <td> 0.941</td> <td>   -2.877     2.669</td>\n",
       "</tr>\n",
       "<tr>\n",
       "  <th>Country Code SR</th>                      <td>   -0.0422</td> <td>    2.830</td> <td>   -0.015</td> <td> 0.988</td> <td>   -5.590     5.505</td>\n",
       "</tr>\n",
       "<tr>\n",
       "  <th>Country Code BQ</th>                      <td>    0.0707</td> <td>    2.832</td> <td>    0.025</td> <td> 0.980</td> <td>   -5.479     5.621</td>\n",
       "</tr>\n",
       "<tr>\n",
       "  <th>Language ???????</th>                     <td>   -0.1170</td> <td>    0.224</td> <td>   -0.522</td> <td> 0.602</td> <td>   -0.556     0.322</td>\n",
       "</tr>\n",
       "<tr>\n",
       "  <th>Language español</th>                     <td>   -0.0767</td> <td>    0.125</td> <td>   -0.615</td> <td> 0.539</td> <td>   -0.321     0.168</td>\n",
       "</tr>\n",
       "<tr>\n",
       "  <th>Language lietuvi?</th>                    <td>   -0.0634</td> <td>    0.556</td> <td>   -0.114</td> <td> 0.909</td> <td>   -1.153     1.026</td>\n",
       "</tr>\n",
       "<tr>\n",
       "  <th>Language polski</th>                      <td>   -0.0140</td> <td>    0.235</td> <td>   -0.059</td> <td> 0.953</td> <td>   -0.475     0.447</td>\n",
       "</tr>\n",
       "<tr>\n",
       "  <th>Language português</th>                   <td>   -0.0384</td> <td>    0.457</td> <td>   -0.084</td> <td> 0.933</td> <td>   -0.933     0.856</td>\n",
       "</tr>\n",
       "<tr>\n",
       "  <th>Language ???</th>                         <td>   -0.0320</td> <td>    0.611</td> <td>   -0.052</td> <td> 0.958</td> <td>   -1.230     1.166</td>\n",
       "</tr>\n",
       "<tr>\n",
       "  <th>Language ?????????</th>                   <td>   -0.0296</td> <td>    0.854</td> <td>   -0.035</td> <td> 0.972</td> <td>   -1.703     1.644</td>\n",
       "</tr>\n",
       "<tr>\n",
       "  <th>Language român?</th>                      <td>   -0.0516</td> <td>    0.252</td> <td>   -0.204</td> <td> 0.838</td> <td>   -0.546     0.443</td>\n",
       "</tr>\n",
       "<tr>\n",
       "  <th>Language sloven?ina</th>                  <td>   -0.0665</td> <td>    1.157</td> <td>   -0.057</td> <td> 0.954</td> <td>   -2.334     2.201</td>\n",
       "</tr>\n",
       "<tr>\n",
       "  <th>Language Nederlands</th>                  <td>   -0.0801</td> <td>    1.149</td> <td>   -0.070</td> <td> 0.944</td> <td>   -2.333     2.172</td>\n",
       "</tr>\n",
       "<tr>\n",
       "  <th>Language Türkçe</th>                      <td>   -0.0362</td> <td>    0.571</td> <td>   -0.063</td> <td> 0.949</td> <td>   -1.155     1.083</td>\n",
       "</tr>\n",
       "<tr>\n",
       "  <th>Language Ti?ng Vi?t</th>                  <td>   -0.0539</td> <td>    0.616</td> <td>   -0.087</td> <td> 0.930</td> <td>   -1.262     1.154</td>\n",
       "</tr>\n",
       "<tr>\n",
       "  <th>Language ?etina</th>                     <td>   -0.0287</td> <td>    0.896</td> <td>   -0.032</td> <td> 0.974</td> <td>   -1.784     1.727</td>\n",
       "</tr>\n",
       "<tr>\n",
       "  <th>Language ????????</th>                    <td>   -0.0053</td> <td>    1.302</td> <td>   -0.004</td> <td> 0.997</td> <td>   -2.557     2.547</td>\n",
       "</tr>\n",
       "<tr>\n",
       "  <th>Language ??</th>                          <td>   -0.0666</td> <td>    0.598</td> <td>   -0.111</td> <td> 0.911</td> <td>   -1.240     1.106</td>\n",
       "</tr>\n",
       "<tr>\n",
       "  <th>Language ??????????</th>                  <td>   -0.0454</td> <td>    1.265</td> <td>   -0.036</td> <td> 0.971</td> <td>   -2.526     2.435</td>\n",
       "</tr>\n",
       "<tr>\n",
       "  <th>Language français</th>                    <td>   -0.1243</td> <td>    0.551</td> <td>   -0.226</td> <td> 0.821</td> <td>   -1.203     0.955</td>\n",
       "</tr>\n",
       "<tr>\n",
       "  <th>Language Deutsch</th>                     <td>   -0.0692</td> <td>    0.999</td> <td>   -0.069</td> <td> 0.945</td> <td>   -2.028     1.889</td>\n",
       "</tr>\n",
       "<tr>\n",
       "  <th>Language italiano</th>                    <td>   -0.0263</td> <td>    0.708</td> <td>   -0.037</td> <td> 0.970</td> <td>   -1.415     1.362</td>\n",
       "</tr>\n",
       "<tr>\n",
       "  <th>Language magyar</th>                      <td>   -0.0866</td> <td>    0.757</td> <td>   -0.114</td> <td> 0.909</td> <td>   -1.571     1.397</td>\n",
       "</tr>\n",
       "<tr>\n",
       "  <th>Language català</th>                      <td>   -0.0551</td> <td>    2.830</td> <td>   -0.019</td> <td> 0.984</td> <td>   -5.602     5.491</td>\n",
       "</tr>\n",
       "<tr>\n",
       "  <th>Language Español</th>                     <td>   -0.0935</td> <td>    2.022</td> <td>   -0.046</td> <td> 0.963</td> <td>   -4.056     3.869</td>\n",
       "</tr>\n",
       "<tr>\n",
       "  <th>Language Srpski</th>                      <td>   -0.0036</td> <td>    4.001</td> <td>   -0.001</td> <td> 0.999</td> <td>   -7.846     7.839</td>\n",
       "</tr>\n",
       "<tr>\n",
       "  <th>Language Bahasa Indonesia</th>            <td>   -0.0755</td> <td>    1.074</td> <td>   -0.070</td> <td> 0.944</td> <td>   -2.180     2.029</td>\n",
       "</tr>\n",
       "<tr>\n",
       "  <th>Language svenska</th>                     <td>   -0.1853</td> <td>    3.483</td> <td>   -0.053</td> <td> 0.958</td> <td>   -7.013     6.642</td>\n",
       "</tr>\n",
       "<tr>\n",
       "  <th>Language hrvatski</th>                    <td>   -0.0030</td> <td>    1.000</td> <td>   -0.003</td> <td> 0.998</td> <td>   -1.964     1.958</td>\n",
       "</tr>\n",
       "<tr>\n",
       "  <th>Language latvieu</th>                    <td>   -0.0181</td> <td>    1.634</td> <td>   -0.011</td> <td> 0.991</td> <td>   -3.221     3.185</td>\n",
       "</tr>\n",
       "<tr>\n",
       "  <th>Language en_</th>                         <td> 5.063e-05</td> <td>    2.001</td> <td> 2.53e-05</td> <td> 1.000</td> <td>   -3.922     3.922</td>\n",
       "</tr>\n",
       "<tr>\n",
       "  <th>Language ?????</th>                       <td>    0.0141</td> <td>    2.166</td> <td>    0.006</td> <td> 0.995</td> <td>   -4.231     4.259</td>\n",
       "</tr>\n",
       "<tr>\n",
       "  <th>Language suomi</th>                       <td>    0.0682</td> <td>    3.490</td> <td>    0.020</td> <td> 0.984</td> <td>   -6.772     6.908</td>\n",
       "</tr>\n",
       "<tr>\n",
       "  <th>Language ??????</th>                      <td>    0.0264</td> <td>    3.465</td> <td>    0.008</td> <td> 0.994</td> <td>   -6.765     6.818</td>\n",
       "</tr>\n",
       "<tr>\n",
       "  <th>Language norsk bokmål</th>                <td> 1.077e-15</td> <td>    3.464</td> <td> 3.11e-16</td> <td> 1.000</td> <td>   -6.790     6.790</td>\n",
       "</tr>\n",
       "<tr>\n",
       "  <th>Media Source (pid) tapjoy_int</th>        <td>   -0.0087</td> <td>    0.067</td> <td>   -0.130</td> <td> 0.896</td> <td>   -0.139     0.122</td>\n",
       "</tr>\n",
       "<tr>\n",
       "  <th>Media Source (pid) Facebook Ads</th>      <td>   -0.0306</td> <td>    0.127</td> <td>   -0.241</td> <td> 0.809</td> <td>   -0.279     0.218</td>\n",
       "</tr>\n",
       "<tr>\n",
       "  <th>Media Source (pid) googleadwords_int</th> <td>    0.0935</td> <td>    0.069</td> <td>    1.348</td> <td> 0.178</td> <td>   -0.042     0.229</td>\n",
       "</tr>\n",
       "<tr>\n",
       "  <th>Media Source (pid) from Agency</th>       <td>   -0.0120</td> <td>    0.064</td> <td>   -0.187</td> <td> 0.852</td> <td>   -0.138     0.114</td>\n",
       "</tr>\n",
       "<tr>\n",
       "  <th>Media Source (pid) applifier_int</th>     <td>   -0.0432</td> <td>    0.356</td> <td>   -0.121</td> <td> 0.903</td> <td>   -0.741     0.655</td>\n",
       "</tr>\n",
       "<tr>\n",
       "  <th>Media Source (pid) jumprampgames_int</th> <td>    0.0556</td> <td>    0.069</td> <td>    0.807</td> <td> 0.420</td> <td>   -0.079     0.191</td>\n",
       "</tr>\n",
       "<tr>\n",
       "  <th>Media Source (pid) vungle_int</th>        <td>    0.1098</td> <td>    0.315</td> <td>    0.348</td> <td> 0.728</td> <td>   -0.508     0.728</td>\n",
       "</tr>\n",
       "<tr>\n",
       "  <th>Media Source (pid) Jelly</th>             <td>    0.0037</td> <td>    0.366</td> <td>    0.010</td> <td> 0.992</td> <td>   -0.714     0.722</td>\n",
       "</tr>\n",
       "<tr>\n",
       "  <th>Media Source (pid) chartboosts2s_int</th> <td>   -0.1354</td> <td>    1.267</td> <td>   -0.107</td> <td> 0.915</td> <td>   -2.619     2.349</td>\n",
       "</tr>\n",
       "<tr>\n",
       "  <th>Media Source (pid) supersonicads_int</th> <td>    0.0178</td> <td>    0.089</td> <td>    0.201</td> <td> 0.841</td> <td>   -0.156     0.191</td>\n",
       "</tr>\n",
       "<tr>\n",
       "  <th>Media Source (pid) nativex_int</th>       <td>    0.0046</td> <td>    2.005</td> <td>    0.002</td> <td> 0.998</td> <td>   -3.926     3.935</td>\n",
       "</tr>\n",
       "<tr>\n",
       "  <th>Media Source (pid) mdotm_int</th>         <td>   -0.1042</td> <td>    1.415</td> <td>   -0.074</td> <td> 0.941</td> <td>   -2.877     2.669</td>\n",
       "</tr>\n",
       "<tr>\n",
       "  <th>OS Version 19</th>                        <td>   -0.0013</td> <td>    0.118</td> <td>   -0.011</td> <td> 0.991</td> <td>   -0.233     0.231</td>\n",
       "</tr>\n",
       "<tr>\n",
       "  <th>OS Version 22</th>                        <td>   -0.0053</td> <td>    0.117</td> <td>   -0.045</td> <td> 0.964</td> <td>   -0.235     0.225</td>\n",
       "</tr>\n",
       "<tr>\n",
       "  <th>OS Version 21</th>                        <td>    0.0321</td> <td>    0.120</td> <td>    0.267</td> <td> 0.790</td> <td>   -0.204     0.268</td>\n",
       "</tr>\n",
       "<tr>\n",
       "  <th>OS Version 17</th>                        <td>   -0.0294</td> <td>    0.144</td> <td>   -0.204</td> <td> 0.838</td> <td>   -0.312     0.253</td>\n",
       "</tr>\n",
       "<tr>\n",
       "  <th>OS Version 15</th>                        <td>   -0.0413</td> <td>    0.271</td> <td>   -0.153</td> <td> 0.879</td> <td>   -0.572     0.489</td>\n",
       "</tr>\n",
       "<tr>\n",
       "  <th>OS Version 23</th>                        <td>   -0.0048</td> <td>    0.149</td> <td>   -0.032</td> <td> 0.974</td> <td>   -0.296     0.287</td>\n",
       "</tr>\n",
       "<tr>\n",
       "  <th>OS Version 16</th>                        <td>    0.0022</td> <td>    0.156</td> <td>    0.014</td> <td> 0.989</td> <td>   -0.303     0.308</td>\n",
       "</tr>\n",
       "<tr>\n",
       "  <th>OS Version 10</th>                        <td>    0.2201</td> <td>    4.036</td> <td>    0.055</td> <td> 0.957</td> <td>   -7.691     8.131</td>\n",
       "</tr>\n",
       "<tr>\n",
       "  <th>SDK Version v2.3.1.19</th>                <td>   -0.0352</td> <td>    0.720</td> <td>   -0.049</td> <td> 0.961</td> <td>   -1.447     1.377</td>\n",
       "</tr>\n",
       "<tr>\n",
       "  <th>SDK Version v2.3.1.17</th>                <td>   -0.1169</td> <td>    1.350</td> <td>   -0.087</td> <td> 0.931</td> <td>   -2.763     2.530</td>\n",
       "</tr>\n",
       "<tr>\n",
       "  <th>WIFI No</th>                              <td>    0.1936</td> <td>    0.039</td> <td>    4.988</td> <td> 0.000</td> <td>    0.118     0.270</td>\n",
       "</tr>\n",
       "</table>\n",
       "<table class=\"simpletable\">\n",
       "<tr>\n",
       "  <th>Omnibus:</th>       <td>105586.866</td> <th>  Durbin-Watson:     </th>    <td>   2.001</td>    \n",
       "</tr>\n",
       "<tr>\n",
       "  <th>Prob(Omnibus):</th>   <td> 0.000</td>   <th>  Jarque-Bera (JB):  </th> <td>77440515599.486</td>\n",
       "</tr>\n",
       "<tr>\n",
       "  <th>Skew:</th>            <td>81.534</td>   <th>  Prob(JB):          </th>    <td>    0.00</td>    \n",
       "</tr>\n",
       "<tr>\n",
       "  <th>Kurtosis:</th>       <td>8091.592</td>  <th>  Cond. No.          </th>    <td>2.37e+17</td>    \n",
       "</tr>\n",
       "</table>"
      ],
      "text/plain": [
       "<class 'statsmodels.iolib.summary.Summary'>\n",
       "\"\"\"\n",
       "                            OLS Regression Results                            \n",
       "==============================================================================\n",
       "Dep. Variable:                Revenue   R-squared:                       0.002\n",
       "Model:                            OLS   Adj. R-squared:                 -0.004\n",
       "Method:                 Least Squares   F-statistic:                    0.2972\n",
       "Date:                Sun, 29 May 2016   Prob (F-statistic):               1.00\n",
       "Time:                        14:05:45   Log-Likelihood:                -69741.\n",
       "No. Observations:               28396   AIC:                         1.398e+05\n",
       "Df Residuals:                   28244   BIC:                         1.410e+05\n",
       "Df Model:                         151                                         \n",
       "Covariance Type:            nonrobust                                         \n",
       "========================================================================================================\n",
       "                                           coef    std err          t      P>|t|      [95.0% Conf. Int.]\n",
       "--------------------------------------------------------------------------------------------------------\n",
       "const                                    0.0160      0.127      0.126      0.900        -0.234     0.266\n",
       "App Version 2.5.0                       -0.1485      1.079     -0.138      0.890        -2.263     1.966\n",
       "App Version 2.4.0                       -0.1212      0.727     -0.167      0.868        -1.546     1.304\n",
       "App Version 2.3.0                       -0.0352      0.720     -0.049      0.961        -1.447     1.377\n",
       "App Version 2.2.7                       -0.1084      2.140     -0.051      0.960        -4.304     4.087\n",
       "App Version 2.2.3                       -0.0085      2.130     -0.004      0.997        -4.183     4.166\n",
       "Country Code GB                         -0.0108      0.045     -0.240      0.810        -0.099     0.077\n",
       "Country Code EG                         -0.0299      0.574     -0.052      0.959        -1.155     1.096\n",
       "Country Code IN                         -0.0393      0.596     -0.066      0.948        -1.208     1.130\n",
       "Country Code UA                          0.0849      0.388      0.219      0.827        -0.675     0.845\n",
       "Country Code IQ                          0.0172      0.370      0.046      0.963        -0.709     0.743\n",
       "Country Code GU                         -0.1616      1.266     -0.128      0.898        -2.643     2.320\n",
       "Country Code MX                          0.0145      0.557      0.026      0.979        -1.077     1.106\n",
       "Country Code LB                         -0.0474      1.280     -0.037      0.970        -2.557     2.462\n",
       "Country Code GE                         -0.0571      2.001     -0.029      0.977        -3.978     3.864\n",
       "Country Code DZ                          0.1082      2.024      0.053      0.957        -3.859     4.075\n",
       "Country Code PR                         -0.0853      0.732     -0.117      0.907        -1.519     1.349\n",
       "Country Code RO                          0.0016      0.638      0.002      0.998        -1.250     1.253\n",
       "Country Code SY                         -0.0768      1.007     -0.076      0.939        -2.051     1.898\n",
       "Country Code RU                          0.0879      0.323      0.272      0.786        -0.546     0.722\n",
       "Country Code FR                          0.0710      1.037      0.068      0.945        -1.961     2.103\n",
       "Country Code BA                         -0.0664      2.004     -0.033      0.974        -3.994     3.861\n",
       "Country Code AZ                          0.0720      1.640      0.044      0.965        -3.143     3.287\n",
       "Country Code VE                          0.0313      0.631      0.050      0.960        -1.205     1.267\n",
       "Country Code MY                         -0.1484      0.967     -0.153      0.878        -2.044     1.747\n",
       "Country Code MD                          0.0929      0.964      0.096      0.923        -1.797     1.983\n",
       "Country Code BY                          0.0937      0.658      0.143      0.887        -1.195     1.383\n",
       "Country Code JO                         -0.0373      1.171     -0.032      0.975        -2.333     2.259\n",
       "Country Code TR                         -0.0165      0.779     -0.021      0.983        -1.544     1.511\n",
       "Country Code VN                         -0.0186      0.562     -0.033      0.974        -1.121     1.084\n",
       "Country Code HK                         -0.1068      2.002     -0.053      0.957        -4.031     3.817\n",
       "Country Code PK                         -0.0905      1.416     -0.064      0.949        -2.865     2.685\n",
       "Country Code CA                         -0.0962      0.509     -0.189      0.850        -1.093     0.901\n",
       "Country Code TH                         -0.0564      0.830     -0.068      0.946        -1.683     1.570\n",
       "Country Code MN                         -0.0745      1.282     -0.058      0.954        -2.588     2.439\n",
       "Country Code AR                          0.0328      0.902      0.036      0.971        -1.736     1.801\n",
       "Country Code PL                          0.0042      0.780      0.005      0.996        -1.524     1.533\n",
       "Country Code IL                         -0.0236      1.640     -0.014      0.989        -3.239     3.192\n",
       "Country Code NL                          0.0528      1.234      0.043      0.966        -2.365     2.471\n",
       "Country Code ES                          0.0454      0.697      0.065      0.948        -1.320     1.411\n",
       "Country Code DE                          0.0196      0.889      0.022      0.982        -1.723     1.763\n",
       "Country Code ID                         -0.0075      0.743     -0.010      0.992        -1.463     1.448\n",
       "Country Code CO                          0.0744      0.742      0.100      0.920        -1.380     1.529\n",
       "Country Code BE                          0.0568      1.348      0.042      0.966        -2.586     2.699\n",
       "Country Code PH                         -0.0074      1.415     -0.005      0.996        -2.781     2.766\n",
       "Country Code BR                          0.0181      0.579      0.031      0.975        -1.117     1.154\n",
       "Country Code LT                          0.0253      1.442      0.018      0.986        -2.802     2.853\n",
       "Country Code SA                         -0.0475      1.008     -0.047      0.962        -2.022     1.927\n",
       "Country Code KW                         -0.0845      1.072     -0.079      0.937        -2.185     2.016\n",
       "Country Code A1                         -0.0443      2.004     -0.022      0.982        -3.972     3.883\n",
       "Country Code GR                         -0.0028      1.041     -0.003      0.998        -2.042     2.037\n",
       "Country Code IT                          0.0215      1.181      0.018      0.985        -2.292     2.335\n",
       "Country Code SI                         -0.0060      2.829     -0.002      0.998        -5.551     5.539\n",
       "Country Code KG                         -0.0423      2.004     -0.021      0.983        -3.969     3.885\n",
       "Country Code TW                          0.0606      2.088      0.029      0.977        -4.032     4.153\n",
       "Country Code MT                         -0.0144      2.852     -0.005      0.996        -5.604     5.575\n",
       "Country Code KZ                          0.0780      1.025      0.076      0.939        -1.932     2.088\n",
       "Country Code PE                          0.0579      0.864      0.067      0.947        -1.635     1.750\n",
       "Country Code NO                         -0.0060      2.829     -0.002      0.998        -5.551     5.539\n",
       "Country Code BD                         -0.0052      1.266     -0.004      0.997        -2.486     2.476\n",
       "Country Code None                        1.9014      0.799      2.379      0.017         0.335     3.468\n",
       "Country Code TN                          0.1182      2.882      0.041      0.967        -5.530     5.767\n",
       "Country Code VI                         -0.0528      2.000     -0.026      0.979        -3.974     3.868\n",
       "Country Code RS                         -0.0325      2.830     -0.011      0.991        -5.579     5.514\n",
       "Country Code EE                         -0.0060      2.829     -0.002      0.998        -5.551     5.539\n",
       "Country Code ZA                         -0.0060      2.829     -0.002      0.998        -5.551     5.539\n",
       "Country Code SG                         -0.1266      1.640     -0.077      0.938        -3.342     3.088\n",
       "Country Code KH                         -0.0044      2.831     -0.002      0.999        -5.553     5.544\n",
       "Country Code SV                          0.0724      2.004      0.036      0.971        -3.856     4.001\n",
       "Country Code BH                         -0.0950      2.860     -0.033      0.974        -5.700     5.510\n",
       "Country Code NP                         -0.0060      2.001     -0.003      0.998        -3.928     3.916\n",
       "Country Code AE                         -0.1134      1.266     -0.090      0.929        -2.595     2.368\n",
       "Country Code HU                          0.0805      1.605      0.050      0.960        -3.066     3.227\n",
       "Country Code AU                         -0.1012      1.442     -0.070      0.944        -2.927     2.724\n",
       "Country Code LY                          0.1928      4.043      0.048      0.962        -7.731     8.117\n",
       "Country Code MA                          0.0240      2.019      0.012      0.991        -3.934     3.982\n",
       "Country Code PT                          0.0228      1.456      0.016      0.988        -2.831     2.877\n",
       "Country Code DK                         -0.0227      2.001     -0.011      0.991        -3.944     3.899\n",
       "Country Code HR                         -0.0030      1.000     -0.003      0.998        -1.964     1.958\n",
       "Country Code AL                         -0.0065      1.634     -0.004      0.997        -3.210     3.197\n",
       "Country Code CL                          0.0454      1.078      0.042      0.966        -2.068     2.159\n",
       "Country Code DO                          0.0323      2.002      0.016      0.987        -3.891     3.956\n",
       "Country Code KR                          0.0260      2.894      0.009      0.993        -5.646     5.698\n",
       "Country Code MO                         -0.2978      2.829     -0.105      0.916        -5.843     5.247\n",
       "Country Code EC                          0.0804      1.078      0.075      0.941        -2.032     2.193\n",
       "Country Code FI                         -0.0909      2.859     -0.032      0.975        -5.696     5.514\n",
       "Country Code NZ                          0.0097      2.853      0.003      0.997        -5.583     5.602\n",
       "Country Code IM                         -0.0122      2.009     -0.006      0.995        -3.950     3.925\n",
       "Country Code CN                          0.0577      2.056      0.028      0.978        -3.973     4.088\n",
       "Country Code UY                          0.0249      2.011      0.012      0.990        -3.917     3.967\n",
       "Country Code CZ                          0.0143      1.675      0.009      0.993        -3.269     3.297\n",
       "Country Code BS                         -0.0049      1.634     -0.003      0.998        -3.207     3.197\n",
       "Country Code PS                          0.0386      1.422      0.027      0.978        -2.749     2.826\n",
       "Country Code JM                         -0.0394      2.829     -0.014      0.989        -5.585     5.506\n",
       "Country Code SE                          0.1792      4.017      0.045      0.964        -7.695     8.054\n",
       "Country Code LA                         -0.1940      2.895     -0.067      0.947        -5.868     5.480\n",
       "Country Code LV                         -0.0619      3.268     -0.019      0.985        -6.468     6.344\n",
       "Country Code TJ                          0.1150      2.838      0.041      0.968        -5.447     5.677\n",
       "Country Code MM                         -0.1042      1.415     -0.074      0.941        -2.877     2.669\n",
       "Country Code SR                         -0.0422      2.830     -0.015      0.988        -5.590     5.505\n",
       "Country Code BQ                          0.0707      2.832      0.025      0.980        -5.479     5.621\n",
       "Language ???????                        -0.1170      0.224     -0.522      0.602        -0.556     0.322\n",
       "Language español                        -0.0767      0.125     -0.615      0.539        -0.321     0.168\n",
       "Language lietuvi?                       -0.0634      0.556     -0.114      0.909        -1.153     1.026\n",
       "Language polski                         -0.0140      0.235     -0.059      0.953        -0.475     0.447\n",
       "Language português                      -0.0384      0.457     -0.084      0.933        -0.933     0.856\n",
       "Language ???                            -0.0320      0.611     -0.052      0.958        -1.230     1.166\n",
       "Language ?????????                      -0.0296      0.854     -0.035      0.972        -1.703     1.644\n",
       "Language român?                         -0.0516      0.252     -0.204      0.838        -0.546     0.443\n",
       "Language sloven?ina                     -0.0665      1.157     -0.057      0.954        -2.334     2.201\n",
       "Language Nederlands                     -0.0801      1.149     -0.070      0.944        -2.333     2.172\n",
       "Language Türkçe                         -0.0362      0.571     -0.063      0.949        -1.155     1.083\n",
       "Language Ti?ng Vi?t                     -0.0539      0.616     -0.087      0.930        -1.262     1.154\n",
       "Language ?etina                        -0.0287      0.896     -0.032      0.974        -1.784     1.727\n",
       "Language ????????                       -0.0053      1.302     -0.004      0.997        -2.557     2.547\n",
       "Language ??                             -0.0666      0.598     -0.111      0.911        -1.240     1.106\n",
       "Language ??????????                     -0.0454      1.265     -0.036      0.971        -2.526     2.435\n",
       "Language français                       -0.1243      0.551     -0.226      0.821        -1.203     0.955\n",
       "Language Deutsch                        -0.0692      0.999     -0.069      0.945        -2.028     1.889\n",
       "Language italiano                       -0.0263      0.708     -0.037      0.970        -1.415     1.362\n",
       "Language magyar                         -0.0866      0.757     -0.114      0.909        -1.571     1.397\n",
       "Language català                         -0.0551      2.830     -0.019      0.984        -5.602     5.491\n",
       "Language Español                        -0.0935      2.022     -0.046      0.963        -4.056     3.869\n",
       "Language Srpski                         -0.0036      4.001     -0.001      0.999        -7.846     7.839\n",
       "Language Bahasa Indonesia               -0.0755      1.074     -0.070      0.944        -2.180     2.029\n",
       "Language svenska                        -0.1853      3.483     -0.053      0.958        -7.013     6.642\n",
       "Language hrvatski                       -0.0030      1.000     -0.003      0.998        -1.964     1.958\n",
       "Language latvieu                       -0.0181      1.634     -0.011      0.991        -3.221     3.185\n",
       "Language en_                          5.063e-05      2.001   2.53e-05      1.000        -3.922     3.922\n",
       "Language ?????                           0.0141      2.166      0.006      0.995        -4.231     4.259\n",
       "Language suomi                           0.0682      3.490      0.020      0.984        -6.772     6.908\n",
       "Language ??????                          0.0264      3.465      0.008      0.994        -6.765     6.818\n",
       "Language norsk bokmål                 1.077e-15      3.464   3.11e-16      1.000        -6.790     6.790\n",
       "Media Source (pid) tapjoy_int           -0.0087      0.067     -0.130      0.896        -0.139     0.122\n",
       "Media Source (pid) Facebook Ads         -0.0306      0.127     -0.241      0.809        -0.279     0.218\n",
       "Media Source (pid) googleadwords_int     0.0935      0.069      1.348      0.178        -0.042     0.229\n",
       "Media Source (pid) from Agency          -0.0120      0.064     -0.187      0.852        -0.138     0.114\n",
       "Media Source (pid) applifier_int        -0.0432      0.356     -0.121      0.903        -0.741     0.655\n",
       "Media Source (pid) jumprampgames_int     0.0556      0.069      0.807      0.420        -0.079     0.191\n",
       "Media Source (pid) vungle_int            0.1098      0.315      0.348      0.728        -0.508     0.728\n",
       "Media Source (pid) Jelly                 0.0037      0.366      0.010      0.992        -0.714     0.722\n",
       "Media Source (pid) chartboosts2s_int    -0.1354      1.267     -0.107      0.915        -2.619     2.349\n",
       "Media Source (pid) supersonicads_int     0.0178      0.089      0.201      0.841        -0.156     0.191\n",
       "Media Source (pid) nativex_int           0.0046      2.005      0.002      0.998        -3.926     3.935\n",
       "Media Source (pid) mdotm_int            -0.1042      1.415     -0.074      0.941        -2.877     2.669\n",
       "OS Version 19                           -0.0013      0.118     -0.011      0.991        -0.233     0.231\n",
       "OS Version 22                           -0.0053      0.117     -0.045      0.964        -0.235     0.225\n",
       "OS Version 21                            0.0321      0.120      0.267      0.790        -0.204     0.268\n",
       "OS Version 17                           -0.0294      0.144     -0.204      0.838        -0.312     0.253\n",
       "OS Version 15                           -0.0413      0.271     -0.153      0.879        -0.572     0.489\n",
       "OS Version 23                           -0.0048      0.149     -0.032      0.974        -0.296     0.287\n",
       "OS Version 16                            0.0022      0.156      0.014      0.989        -0.303     0.308\n",
       "OS Version 10                            0.2201      4.036      0.055      0.957        -7.691     8.131\n",
       "SDK Version v2.3.1.19                   -0.0352      0.720     -0.049      0.961        -1.447     1.377\n",
       "SDK Version v2.3.1.17                   -0.1169      1.350     -0.087      0.931        -2.763     2.530\n",
       "WIFI No                                  0.1936      0.039      4.988      0.000         0.118     0.270\n",
       "==============================================================================\n",
       "Omnibus:                   105586.866   Durbin-Watson:                   2.001\n",
       "Prob(Omnibus):                  0.000   Jarque-Bera (JB):      77440515599.486\n",
       "Skew:                          81.534   Prob(JB):                         0.00\n",
       "Kurtosis:                    8091.592   Cond. No.                     2.37e+17\n",
       "==============================================================================\n",
       "\n",
       "Warnings:\n",
       "[1] Standard Errors assume that the covariance matrix of the errors is correctly specified.\n",
       "[2] The smallest eigenvalue is 8.28e-31. This might indicate that there are\n",
       "strong multicollinearity problems or that the design matrix is singular.\n",
       "\"\"\""
      ]
     },
     "execution_count": 63,
     "metadata": {},
     "output_type": "execute_result"
    }
   ],
   "source": [
    "resultOLS.summary()\n",
    "\n"
   ]
  }
 ],
 "metadata": {
  "kernelspec": {
   "display_name": "Python 3",
   "language": "python",
   "name": "python3"
  },
  "language_info": {
   "codemirror_mode": {
    "name": "ipython",
    "version": 3
   },
   "file_extension": ".py",
   "mimetype": "text/x-python",
   "name": "python",
   "nbconvert_exporter": "python",
   "pygments_lexer": "ipython3",
   "version": "3.5.1"
  }
 },
 "nbformat": 4,
 "nbformat_minor": 0
}
